{
 "cells": [
  {
   "cell_type": "code",
   "execution_count": 1,
   "id": "20bdd92f-4ec3-4c1f-9e9a-5f6f4f318801",
   "metadata": {},
   "outputs": [],
   "source": [
    "import pandas as pd"
   ]
  },
  {
   "cell_type": "code",
   "execution_count": 3,
   "id": "0dad0996-8812-49d7-aa62-9097c98162ff",
   "metadata": {},
   "outputs": [],
   "source": [
    "dataset= pd.read_csv(\"Campus_Placement_Tracker_500.csv\")"
   ]
  },
  {
   "cell_type": "code",
   "execution_count": 4,
   "id": "5d410710-33a8-4120-a805-a3494de30d2f",
   "metadata": {},
   "outputs": [
    {
     "data": {
      "text/plain": [
       "0       Shruti\n",
       "1          Dev\n",
       "2          Dev\n",
       "3       Atharv\n",
       "4          Sai\n",
       "        ...   \n",
       "495      Aarav\n",
       "496        Dev\n",
       "497     Ishaan\n",
       "498    Kritika\n",
       "499      Arjun\n",
       "Name: First Name, Length: 500, dtype: object"
      ]
     },
     "execution_count": 4,
     "metadata": {},
     "output_type": "execute_result"
    }
   ],
   "source": [
    "dataset[\"First Name\"]"
   ]
  },
  {
   "cell_type": "code",
   "execution_count": 5,
   "id": "db09146e-4af4-4ad8-978b-7c99bf902e01",
   "metadata": {},
   "outputs": [
    {
     "data": {
      "text/plain": [
       "pandas.core.series.Series"
      ]
     },
     "execution_count": 5,
     "metadata": {},
     "output_type": "execute_result"
    }
   ],
   "source": [
    "type(dataset[\"First Name\"])"
   ]
  },
  {
   "cell_type": "code",
   "execution_count": 7,
   "id": "cee97a50-889b-47e7-8579-c328ac7615ac",
   "metadata": {},
   "outputs": [
    {
     "data": {
      "text/html": [
       "<div>\n",
       "<style scoped>\n",
       "    .dataframe tbody tr th:only-of-type {\n",
       "        vertical-align: middle;\n",
       "    }\n",
       "\n",
       "    .dataframe tbody tr th {\n",
       "        vertical-align: top;\n",
       "    }\n",
       "\n",
       "    .dataframe thead th {\n",
       "        text-align: right;\n",
       "    }\n",
       "</style>\n",
       "<table border=\"1\" class=\"dataframe\">\n",
       "  <thead>\n",
       "    <tr style=\"text-align: right;\">\n",
       "      <th></th>\n",
       "      <th>CTC (LPA)</th>\n",
       "      <th>Job Role</th>\n",
       "    </tr>\n",
       "  </thead>\n",
       "  <tbody>\n",
       "    <tr>\n",
       "      <th>0</th>\n",
       "      <td>3.43</td>\n",
       "      <td>Software Engineer</td>\n",
       "    </tr>\n",
       "    <tr>\n",
       "      <th>1</th>\n",
       "      <td>5.63</td>\n",
       "      <td>Data Analyst</td>\n",
       "    </tr>\n",
       "    <tr>\n",
       "      <th>2</th>\n",
       "      <td>4.17</td>\n",
       "      <td>Software Engineer</td>\n",
       "    </tr>\n",
       "    <tr>\n",
       "      <th>3</th>\n",
       "      <td>3.42</td>\n",
       "      <td>DevOps Engineer</td>\n",
       "    </tr>\n",
       "    <tr>\n",
       "      <th>4</th>\n",
       "      <td>3.14</td>\n",
       "      <td>DevOps Engineer</td>\n",
       "    </tr>\n",
       "    <tr>\n",
       "      <th>...</th>\n",
       "      <td>...</td>\n",
       "      <td>...</td>\n",
       "    </tr>\n",
       "    <tr>\n",
       "      <th>495</th>\n",
       "      <td>21.62</td>\n",
       "      <td>Backend Developer</td>\n",
       "    </tr>\n",
       "    <tr>\n",
       "      <th>496</th>\n",
       "      <td>13.19</td>\n",
       "      <td>Data Analyst</td>\n",
       "    </tr>\n",
       "    <tr>\n",
       "      <th>497</th>\n",
       "      <td>12.04</td>\n",
       "      <td>DevOps Engineer</td>\n",
       "    </tr>\n",
       "    <tr>\n",
       "      <th>498</th>\n",
       "      <td>20.80</td>\n",
       "      <td>System Analyst</td>\n",
       "    </tr>\n",
       "    <tr>\n",
       "      <th>499</th>\n",
       "      <td>22.68</td>\n",
       "      <td>System Analyst</td>\n",
       "    </tr>\n",
       "  </tbody>\n",
       "</table>\n",
       "<p>500 rows × 2 columns</p>\n",
       "</div>"
      ],
      "text/plain": [
       "     CTC (LPA)           Job Role\n",
       "0         3.43  Software Engineer\n",
       "1         5.63       Data Analyst\n",
       "2         4.17  Software Engineer\n",
       "3         3.42    DevOps Engineer\n",
       "4         3.14    DevOps Engineer\n",
       "..         ...                ...\n",
       "495      21.62  Backend Developer\n",
       "496      13.19       Data Analyst\n",
       "497      12.04    DevOps Engineer\n",
       "498      20.80     System Analyst\n",
       "499      22.68     System Analyst\n",
       "\n",
       "[500 rows x 2 columns]"
      ]
     },
     "execution_count": 7,
     "metadata": {},
     "output_type": "execute_result"
    }
   ],
   "source": [
    "dataset[[\"CTC (LPA)\",\"Job Role\"]]"
   ]
  },
  {
   "cell_type": "code",
   "execution_count": 9,
   "id": "85b5274b-c21e-4a8e-bc37-2bb48a9540e5",
   "metadata": {},
   "outputs": [
    {
     "data": {
      "text/plain": [
       "0           Civil\n",
       "1      Mechanical\n",
       "2             ECE\n",
       "3             ECE\n",
       "4           Civil\n",
       "          ...    \n",
       "495           EEE\n",
       "496         Civil\n",
       "497         Civil\n",
       "498            IT\n",
       "499    Mechanical\n",
       "Name: Branch, Length: 500, dtype: object"
      ]
     },
     "execution_count": 9,
     "metadata": {},
     "output_type": "execute_result"
    }
   ],
   "source": [
    "dataset.Branch"
   ]
  },
  {
   "cell_type": "code",
   "execution_count": 13,
   "id": "f64c4cbe-4178-45e0-b607-3949fa1a4c78",
   "metadata": {},
   "outputs": [
    {
     "data": {
      "text/plain": [
       "True"
      ]
     },
     "execution_count": 13,
     "metadata": {},
     "output_type": "execute_result"
    }
   ],
   "source": [
    "dataset.Branch.equals(dataset[\"Branch\"])"
   ]
  },
  {
   "cell_type": "code",
   "execution_count": null,
   "id": "5a31445d-9fc7-48c1-9125-42f1401a2a98",
   "metadata": {},
   "outputs": [],
   "source": []
  }
 ],
 "metadata": {
  "kernelspec": {
   "display_name": "Python 3 (ipykernel)",
   "language": "python",
   "name": "python3"
  },
  "language_info": {
   "codemirror_mode": {
    "name": "ipython",
    "version": 3
   },
   "file_extension": ".py",
   "mimetype": "text/x-python",
   "name": "python",
   "nbconvert_exporter": "python",
   "pygments_lexer": "ipython3",
   "version": "3.13.3"
  }
 },
 "nbformat": 4,
 "nbformat_minor": 5
}
