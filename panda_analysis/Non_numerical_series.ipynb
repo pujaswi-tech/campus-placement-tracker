{
 "cells": [
  {
   "cell_type": "code",
   "execution_count": 2,
   "id": "3182b448-e1ef-4f72-953c-241fa48fa6e8",
   "metadata": {},
   "outputs": [],
   "source": [
    "import pandas as pd"
   ]
  },
  {
   "cell_type": "code",
   "execution_count": 3,
   "id": "fdd0400c-0cc3-43d5-80d6-7638c6072509",
   "metadata": {},
   "outputs": [],
   "source": [
    "dataset= pd.read_csv(\"Campus_Placement_Tracker_500.csv\")"
   ]
  },
  {
   "cell_type": "code",
   "execution_count": 5,
   "id": "51e5fd20-7401-443f-a52d-8c922d40d97c",
   "metadata": {},
   "outputs": [],
   "source": [
    "Name = dataset[\"First Name\"]"
   ]
  },
  {
   "cell_type": "code",
   "execution_count": 6,
   "id": "345063fd-7a1d-401a-b440-edac85edbf05",
   "metadata": {},
   "outputs": [
    {
     "data": {
      "text/plain": [
       "0       Shruti\n",
       "1          Dev\n",
       "2          Dev\n",
       "3       Atharv\n",
       "4          Sai\n",
       "        ...   \n",
       "495      Aarav\n",
       "496        Dev\n",
       "497     Ishaan\n",
       "498    Kritika\n",
       "499      Arjun\n",
       "Name: First Name, Length: 500, dtype: object"
      ]
     },
     "execution_count": 6,
     "metadata": {},
     "output_type": "execute_result"
    }
   ],
   "source": [
    "Name"
   ]
  },
  {
   "cell_type": "code",
   "execution_count": 7,
   "id": "8dcdda9b-b462-47bb-ad9a-c4476204d18b",
   "metadata": {},
   "outputs": [
    {
     "data": {
      "text/plain": [
       "0    Shruti\n",
       "1       Dev\n",
       "2       Dev\n",
       "3    Atharv\n",
       "4       Sai\n",
       "Name: First Name, dtype: object"
      ]
     },
     "execution_count": 7,
     "metadata": {},
     "output_type": "execute_result"
    }
   ],
   "source": [
    "Name.head()"
   ]
  },
  {
   "cell_type": "code",
   "execution_count": 8,
   "id": "0841de16-61a1-475a-bded-653d69122d12",
   "metadata": {},
   "outputs": [
    {
     "data": {
      "text/plain": [
       "495      Aarav\n",
       "496        Dev\n",
       "497     Ishaan\n",
       "498    Kritika\n",
       "499      Arjun\n",
       "Name: First Name, dtype: object"
      ]
     },
     "execution_count": 8,
     "metadata": {},
     "output_type": "execute_result"
    }
   ],
   "source": [
    "Name.tail(5)"
   ]
  },
  {
   "cell_type": "code",
   "execution_count": 9,
   "id": "d2527024-fc8f-4706-a938-58676fb57b68",
   "metadata": {},
   "outputs": [
    {
     "data": {
      "text/plain": [
       "pandas.core.series.Series"
      ]
     },
     "execution_count": 9,
     "metadata": {},
     "output_type": "execute_result"
    }
   ],
   "source": [
    "type(Name)"
   ]
  },
  {
   "cell_type": "code",
   "execution_count": 10,
   "id": "4ecce307-ae09-4544-ab8d-1f91241216dd",
   "metadata": {},
   "outputs": [
    {
     "data": {
      "text/plain": [
       "dtype('O')"
      ]
     },
     "execution_count": 10,
     "metadata": {},
     "output_type": "execute_result"
    }
   ],
   "source": [
    "Name.dtype"
   ]
  },
  {
   "cell_type": "code",
   "execution_count": 11,
   "id": "314172c2-5d86-46b5-afed-918563feffed",
   "metadata": {},
   "outputs": [
    {
     "data": {
      "text/plain": [
       "(500,)"
      ]
     },
     "execution_count": 11,
     "metadata": {},
     "output_type": "execute_result"
    }
   ],
   "source": [
    "Name.shape"
   ]
  },
  {
   "cell_type": "code",
   "execution_count": 12,
   "id": "3c3534ec-49c6-4aab-babe-7414c1a2b59a",
   "metadata": {},
   "outputs": [
    {
     "data": {
      "text/plain": [
       "count       500\n",
       "unique       40\n",
       "top       Kabir\n",
       "freq         23\n",
       "Name: First Name, dtype: object"
      ]
     },
     "execution_count": 12,
     "metadata": {},
     "output_type": "execute_result"
    }
   ],
   "source": [
    "Name.describe()"
   ]
  },
  {
   "cell_type": "code",
   "execution_count": 13,
   "id": "80bd2377-538e-474d-937c-161dc4f278a1",
   "metadata": {},
   "outputs": [
    {
     "data": {
      "text/plain": [
       "500"
      ]
     },
     "execution_count": 13,
     "metadata": {},
     "output_type": "execute_result"
    }
   ],
   "source": [
    "Name.size"
   ]
  },
  {
   "cell_type": "code",
   "execution_count": 14,
   "id": "749a441c-38ff-4316-951e-515c6d659ea7",
   "metadata": {},
   "outputs": [
    {
     "data": {
      "text/plain": [
       "np.int64(500)"
      ]
     },
     "execution_count": 14,
     "metadata": {},
     "output_type": "execute_result"
    }
   ],
   "source": [
    "Name.count()"
   ]
  },
  {
   "cell_type": "code",
   "execution_count": 15,
   "id": "97ed6a3f-7df1-4663-b1c0-c4ef5ba22193",
   "metadata": {},
   "outputs": [
    {
     "data": {
      "text/plain": [
       "'Aadhya'"
      ]
     },
     "execution_count": 15,
     "metadata": {},
     "output_type": "execute_result"
    }
   ],
   "source": [
    "Name.min()"
   ]
  },
  {
   "cell_type": "code",
   "execution_count": 16,
   "id": "e44d9fa8-0255-435f-aee8-58f75ab2e26c",
   "metadata": {},
   "outputs": [
    {
     "data": {
      "text/plain": [
       "array(['Shruti', 'Dev', 'Atharv', 'Sai', 'Saanvi', 'Aryan', 'Harsh',\n",
       "       'Ananya', 'Kiara', 'Vihaan', 'Sara', 'Aarav', 'Avni', 'Naman',\n",
       "       'Kunal', 'Tanya', 'Yash', 'Prisha', 'Pihu', 'Aadhya', 'Reyansh',\n",
       "       'Aditya', 'Kabir', 'Vivaan', 'Myra', 'Anika', 'Kritika', 'Tanvi',\n",
       "       'Arjun', 'Krishna', 'Laksh', 'Ishaan', 'Diya', 'Ira', 'Om', 'Riya',\n",
       "       'Niharika', 'Trisha', 'Meera', 'Rohan'], dtype=object)"
      ]
     },
     "execution_count": 16,
     "metadata": {},
     "output_type": "execute_result"
    }
   ],
   "source": [
    "Name.unique()"
   ]
  },
  {
   "cell_type": "code",
   "execution_count": 17,
   "id": "ff258186-d417-4dde-9243-7fe73de6bb7c",
   "metadata": {},
   "outputs": [
    {
     "data": {
      "text/plain": [
       "40"
      ]
     },
     "execution_count": 17,
     "metadata": {},
     "output_type": "execute_result"
    }
   ],
   "source": [
    "len(Name.unique())"
   ]
  },
  {
   "cell_type": "code",
   "execution_count": 18,
   "id": "5c27497a-2559-42ca-ae63-9ed0ae17e181",
   "metadata": {},
   "outputs": [
    {
     "data": {
      "text/plain": [
       "40"
      ]
     },
     "execution_count": 18,
     "metadata": {},
     "output_type": "execute_result"
    }
   ],
   "source": [
    "Name.nunique()"
   ]
  },
  {
   "cell_type": "code",
   "execution_count": 19,
   "id": "269ee161-987c-43b2-ab9a-768bc6b36534",
   "metadata": {},
   "outputs": [
    {
     "data": {
      "text/plain": [
       "First Name\n",
       "Rohan        6\n",
       "Diya         6\n",
       "Kunal        7\n",
       "Tanvi        7\n",
       "Ira          7\n",
       "Om           7\n",
       "Harsh        8\n",
       "Aadhya       9\n",
       "Ishaan       9\n",
       "Vivaan      10\n",
       "Myra        10\n",
       "Tanya       11\n",
       "Pihu        11\n",
       "Prisha      11\n",
       "Saanvi      11\n",
       "Krishna     12\n",
       "Atharv      12\n",
       "Naman       12\n",
       "Avni        13\n",
       "Aarav       13\n",
       "Anika       13\n",
       "Kiara       13\n",
       "Aryan       13\n",
       "Sai         13\n",
       "Niharika    13\n",
       "Trisha      13\n",
       "Dev         14\n",
       "Riya        14\n",
       "Reyansh     14\n",
       "Laksh       14\n",
       "Shruti      15\n",
       "Vihaan      16\n",
       "Arjun       16\n",
       "Meera       16\n",
       "Ananya      17\n",
       "Kritika     17\n",
       "Yash        18\n",
       "Aditya      18\n",
       "Sara        18\n",
       "Kabir       23\n",
       "Name: count, dtype: int64"
      ]
     },
     "execution_count": 19,
     "metadata": {},
     "output_type": "execute_result"
    }
   ],
   "source": [
    "Name.value_counts(sort = True,ascending = True)"
   ]
  },
  {
   "cell_type": "code",
   "execution_count": 21,
   "id": "578572be-3153-491f-8182-685e3dce8c80",
   "metadata": {},
   "outputs": [
    {
     "data": {
      "text/plain": [
       "First Name\n",
       "Kabir     0.046\n",
       "Aditya    0.036\n",
       "Sara      0.036\n",
       "Yash      0.036\n",
       "Ananya    0.034\n",
       "Name: proportion, dtype: float64"
      ]
     },
     "execution_count": 21,
     "metadata": {},
     "output_type": "execute_result"
    }
   ],
   "source": [
    "Name.value_counts(sort = True,ascending = False,normalize = True).head()"
   ]
  },
  {
   "cell_type": "code",
   "execution_count": null,
   "id": "2f4a5ab8-fc44-48cb-84f1-bce33bc86337",
   "metadata": {},
   "outputs": [],
   "source": []
  }
 ],
 "metadata": {
  "kernelspec": {
   "display_name": "Python 3 (ipykernel)",
   "language": "python",
   "name": "python3"
  },
  "language_info": {
   "codemirror_mode": {
    "name": "ipython",
    "version": 3
   },
   "file_extension": ".py",
   "mimetype": "text/x-python",
   "name": "python",
   "nbconvert_exporter": "python",
   "pygments_lexer": "ipython3",
   "version": "3.13.3"
  }
 },
 "nbformat": 4,
 "nbformat_minor": 5
}
