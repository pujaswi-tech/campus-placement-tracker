{
 "cells": [
  {
   "cell_type": "code",
   "execution_count": 1,
   "id": "e46974b2-1c5b-44dd-a89c-36dbca9f0bc5",
   "metadata": {},
   "outputs": [],
   "source": [
    "import pandas as pd"
   ]
  },
  {
   "cell_type": "code",
   "execution_count": 3,
   "id": "d36add25-ebdd-46ec-bbbc-99446377c18a",
   "metadata": {},
   "outputs": [],
   "source": [
    "dataframe=pd.read_csv(\"Campus_Placement_Tracker_500.csv\")"
   ]
  },
  {
   "cell_type": "code",
   "execution_count": 4,
   "id": "9751da12-db71-4a21-a29d-1858d9be1ad9",
   "metadata": {},
   "outputs": [
    {
     "data": {
      "text/html": [
       "<div>\n",
       "<style scoped>\n",
       "    .dataframe tbody tr th:only-of-type {\n",
       "        vertical-align: middle;\n",
       "    }\n",
       "\n",
       "    .dataframe tbody tr th {\n",
       "        vertical-align: top;\n",
       "    }\n",
       "\n",
       "    .dataframe thead th {\n",
       "        text-align: right;\n",
       "    }\n",
       "</style>\n",
       "<table border=\"1\" class=\"dataframe\">\n",
       "  <thead>\n",
       "    <tr style=\"text-align: right;\">\n",
       "      <th></th>\n",
       "      <th>Roll Number</th>\n",
       "      <th>First Name</th>\n",
       "      <th>Last Name</th>\n",
       "      <th>Gender</th>\n",
       "      <th>Branch</th>\n",
       "      <th>Company</th>\n",
       "      <th>CTC (LPA)</th>\n",
       "      <th>Job Role</th>\n",
       "    </tr>\n",
       "  </thead>\n",
       "  <tbody>\n",
       "    <tr>\n",
       "      <th>0</th>\n",
       "      <td>22BCE6764</td>\n",
       "      <td>Shruti</td>\n",
       "      <td>Gupta</td>\n",
       "      <td>Female</td>\n",
       "      <td>Civil</td>\n",
       "      <td>Capgemini</td>\n",
       "      <td>3.43</td>\n",
       "      <td>Software Engineer</td>\n",
       "    </tr>\n",
       "    <tr>\n",
       "      <th>1</th>\n",
       "      <td>22BCE1856</td>\n",
       "      <td>Dev</td>\n",
       "      <td>Sharma</td>\n",
       "      <td>Male</td>\n",
       "      <td>Mechanical</td>\n",
       "      <td>Cognizant</td>\n",
       "      <td>5.63</td>\n",
       "      <td>Data Analyst</td>\n",
       "    </tr>\n",
       "    <tr>\n",
       "      <th>2</th>\n",
       "      <td>22BCE7769</td>\n",
       "      <td>Dev</td>\n",
       "      <td>Pandey</td>\n",
       "      <td>Male</td>\n",
       "      <td>ECE</td>\n",
       "      <td>TCS</td>\n",
       "      <td>4.17</td>\n",
       "      <td>Software Engineer</td>\n",
       "    </tr>\n",
       "    <tr>\n",
       "      <th>3</th>\n",
       "      <td>22BCE3591</td>\n",
       "      <td>Atharv</td>\n",
       "      <td>Mehta</td>\n",
       "      <td>Female</td>\n",
       "      <td>ECE</td>\n",
       "      <td>Infosys</td>\n",
       "      <td>3.42</td>\n",
       "      <td>DevOps Engineer</td>\n",
       "    </tr>\n",
       "    <tr>\n",
       "      <th>4</th>\n",
       "      <td>22BCE2533</td>\n",
       "      <td>Sai</td>\n",
       "      <td>Agarwal</td>\n",
       "      <td>Male</td>\n",
       "      <td>Civil</td>\n",
       "      <td>TCS</td>\n",
       "      <td>3.14</td>\n",
       "      <td>DevOps Engineer</td>\n",
       "    </tr>\n",
       "    <tr>\n",
       "      <th>...</th>\n",
       "      <td>...</td>\n",
       "      <td>...</td>\n",
       "      <td>...</td>\n",
       "      <td>...</td>\n",
       "      <td>...</td>\n",
       "      <td>...</td>\n",
       "      <td>...</td>\n",
       "      <td>...</td>\n",
       "    </tr>\n",
       "    <tr>\n",
       "      <th>495</th>\n",
       "      <td>22BCE9836</td>\n",
       "      <td>Aarav</td>\n",
       "      <td>Verma</td>\n",
       "      <td>Male</td>\n",
       "      <td>EEE</td>\n",
       "      <td>Google</td>\n",
       "      <td>21.62</td>\n",
       "      <td>Backend Developer</td>\n",
       "    </tr>\n",
       "    <tr>\n",
       "      <th>496</th>\n",
       "      <td>22BCE3684</td>\n",
       "      <td>Dev</td>\n",
       "      <td>Joshi</td>\n",
       "      <td>Female</td>\n",
       "      <td>Civil</td>\n",
       "      <td>Wipro</td>\n",
       "      <td>13.19</td>\n",
       "      <td>Data Analyst</td>\n",
       "    </tr>\n",
       "    <tr>\n",
       "      <th>497</th>\n",
       "      <td>22BCE3357</td>\n",
       "      <td>Ishaan</td>\n",
       "      <td>Reddy</td>\n",
       "      <td>Female</td>\n",
       "      <td>Civil</td>\n",
       "      <td>Google</td>\n",
       "      <td>12.04</td>\n",
       "      <td>DevOps Engineer</td>\n",
       "    </tr>\n",
       "    <tr>\n",
       "      <th>498</th>\n",
       "      <td>22BCE6715</td>\n",
       "      <td>Kritika</td>\n",
       "      <td>Kapoor</td>\n",
       "      <td>Male</td>\n",
       "      <td>IT</td>\n",
       "      <td>TCS</td>\n",
       "      <td>20.80</td>\n",
       "      <td>System Analyst</td>\n",
       "    </tr>\n",
       "    <tr>\n",
       "      <th>499</th>\n",
       "      <td>22BCE7062</td>\n",
       "      <td>Arjun</td>\n",
       "      <td>Kapoor</td>\n",
       "      <td>Male</td>\n",
       "      <td>Mechanical</td>\n",
       "      <td>Google</td>\n",
       "      <td>22.68</td>\n",
       "      <td>System Analyst</td>\n",
       "    </tr>\n",
       "  </tbody>\n",
       "</table>\n",
       "<p>500 rows × 8 columns</p>\n",
       "</div>"
      ],
      "text/plain": [
       "    Roll Number First Name Last Name  Gender      Branch    Company  \\\n",
       "0     22BCE6764     Shruti     Gupta  Female       Civil  Capgemini   \n",
       "1     22BCE1856        Dev    Sharma    Male  Mechanical  Cognizant   \n",
       "2     22BCE7769        Dev    Pandey    Male         ECE        TCS   \n",
       "3     22BCE3591     Atharv     Mehta  Female         ECE    Infosys   \n",
       "4     22BCE2533        Sai   Agarwal    Male       Civil        TCS   \n",
       "..          ...        ...       ...     ...         ...        ...   \n",
       "495   22BCE9836      Aarav     Verma    Male         EEE     Google   \n",
       "496   22BCE3684        Dev     Joshi  Female       Civil      Wipro   \n",
       "497   22BCE3357     Ishaan     Reddy  Female       Civil     Google   \n",
       "498   22BCE6715    Kritika    Kapoor    Male          IT        TCS   \n",
       "499   22BCE7062      Arjun    Kapoor    Male  Mechanical     Google   \n",
       "\n",
       "     CTC (LPA)           Job Role  \n",
       "0         3.43  Software Engineer  \n",
       "1         5.63       Data Analyst  \n",
       "2         4.17  Software Engineer  \n",
       "3         3.42    DevOps Engineer  \n",
       "4         3.14    DevOps Engineer  \n",
       "..         ...                ...  \n",
       "495      21.62  Backend Developer  \n",
       "496      13.19       Data Analyst  \n",
       "497      12.04    DevOps Engineer  \n",
       "498      20.80     System Analyst  \n",
       "499      22.68     System Analyst  \n",
       "\n",
       "[500 rows x 8 columns]"
      ]
     },
     "execution_count": 4,
     "metadata": {},
     "output_type": "execute_result"
    }
   ],
   "source": [
    "dataframe"
   ]
  },
  {
   "cell_type": "markdown",
   "id": "78a7b3c3-e433-4ec1-bad0-218e9287e521",
   "metadata": {},
   "source": [
    "# Selecting rows with loc[]"
   ]
  },
  {
   "cell_type": "code",
   "execution_count": 5,
   "id": "81683938-ca3f-402e-9972-4f428f7c57fa",
   "metadata": {},
   "outputs": [
    {
     "data": {
      "text/plain": [
       "Roll Number            22BCE7769\n",
       "First Name                   Dev\n",
       "Last Name                 Pandey\n",
       "Gender                      Male\n",
       "Branch                       ECE\n",
       "Company                      TCS\n",
       "CTC (LPA)                   4.17\n",
       "Job Role       Software Engineer\n",
       "Name: 2, dtype: object"
      ]
     },
     "execution_count": 5,
     "metadata": {},
     "output_type": "execute_result"
    }
   ],
   "source": [
    "dataframe.iloc[2]"
   ]
  },
  {
   "cell_type": "code",
   "execution_count": 14,
   "id": "fbe2cdc2-4d6e-4f65-81f9-adb98acaa4a9",
   "metadata": {},
   "outputs": [
    {
     "name": "stdout",
     "output_type": "stream",
     "text": [
      "RangeIndex(start=0, stop=500, step=1)\n"
     ]
    }
   ],
   "source": [
    "print(dataframe.index)"
   ]
  },
  {
   "cell_type": "code",
   "execution_count": null,
   "id": "427ef9e3-db29-4eff-a7aa-6997441ea5a2",
   "metadata": {},
   "outputs": [],
   "source": []
  }
 ],
 "metadata": {
  "kernelspec": {
   "display_name": "Python 3 (ipykernel)",
   "language": "python",
   "name": "python3"
  },
  "language_info": {
   "codemirror_mode": {
    "name": "ipython",
    "version": 3
   },
   "file_extension": ".py",
   "mimetype": "text/x-python",
   "name": "python",
   "nbconvert_exporter": "python",
   "pygments_lexer": "ipython3",
   "version": "3.13.3"
  }
 },
 "nbformat": 4,
 "nbformat_minor": 5
}
