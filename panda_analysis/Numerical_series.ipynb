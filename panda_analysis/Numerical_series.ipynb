{
 "cells": [
  {
   "cell_type": "code",
   "execution_count": 1,
   "id": "837a6272-f499-4df2-9078-c3fe75baeace",
   "metadata": {},
   "outputs": [],
   "source": [
    "import pandas as pd"
   ]
  },
  {
   "cell_type": "code",
   "execution_count": 2,
   "id": "160bc9c0-c02d-4df8-b121-d90e82f39a8b",
   "metadata": {},
   "outputs": [],
   "source": [
    "dataset= pd.read_csv(\"Campus_Placement_Tracker_500.csv\")"
   ]
  },
  {
   "cell_type": "code",
   "execution_count": 3,
   "id": "ae3bd3f0-aefb-45bc-8bcf-7df3775e804a",
   "metadata": {},
   "outputs": [],
   "source": [
    "CTC = dataset[\"CTC (LPA)\"]"
   ]
  },
  {
   "cell_type": "code",
   "execution_count": 4,
   "id": "c761e65e-33cb-483f-ba87-1ad584662411",
   "metadata": {},
   "outputs": [
    {
     "data": {
      "text/plain": [
       "0       3.43\n",
       "1       5.63\n",
       "2       4.17\n",
       "3       3.42\n",
       "4       3.14\n",
       "       ...  \n",
       "495    21.62\n",
       "496    13.19\n",
       "497    12.04\n",
       "498    20.80\n",
       "499    22.68\n",
       "Name: CTC (LPA), Length: 500, dtype: float64"
      ]
     },
     "execution_count": 4,
     "metadata": {},
     "output_type": "execute_result"
    }
   ],
   "source": [
    "CTC"
   ]
  },
  {
   "cell_type": "code",
   "execution_count": 5,
   "id": "af5d28d2-6081-49f6-9efa-9fa735bb553b",
   "metadata": {},
   "outputs": [
    {
     "data": {
      "text/plain": [
       "count    500.000000\n",
       "mean      11.171580\n",
       "std        8.446694\n",
       "min        3.000000\n",
       "25%        4.507500\n",
       "50%        5.990000\n",
       "75%       18.000000\n",
       "max       29.920000\n",
       "Name: CTC (LPA), dtype: float64"
      ]
     },
     "execution_count": 5,
     "metadata": {},
     "output_type": "execute_result"
    }
   ],
   "source": [
    "CTC.describe()"
   ]
  },
  {
   "cell_type": "code",
   "execution_count": 6,
   "id": "f7f9a5b2-5fc4-4383-ad28-9de51259a6c2",
   "metadata": {},
   "outputs": [
    {
     "data": {
      "text/plain": [
       "np.int64(500)"
      ]
     },
     "execution_count": 6,
     "metadata": {},
     "output_type": "execute_result"
    }
   ],
   "source": [
    "CTC.count()"
   ]
  },
  {
   "cell_type": "code",
   "execution_count": 7,
   "id": "5d9dc409-a1f9-4486-a7e5-b16a361a2cf7",
   "metadata": {},
   "outputs": [
    {
     "data": {
      "text/plain": [
       "500"
      ]
     },
     "execution_count": 7,
     "metadata": {},
     "output_type": "execute_result"
    }
   ],
   "source": [
    "CTC.size"
   ]
  },
  {
   "cell_type": "code",
   "execution_count": 8,
   "id": "dae78a17-2ec4-40ea-ac30-d8d94a5331d3",
   "metadata": {},
   "outputs": [
    {
     "data": {
      "text/plain": [
       "500"
      ]
     },
     "execution_count": 8,
     "metadata": {},
     "output_type": "execute_result"
    }
   ],
   "source": [
    "len(CTC)"
   ]
  },
  {
   "cell_type": "code",
   "execution_count": 9,
   "id": "4c407c08-78c0-4baa-8deb-3235a3f8f2ef",
   "metadata": {},
   "outputs": [
    {
     "data": {
      "text/plain": [
       "np.float64(5585.789999999999)"
      ]
     },
     "execution_count": 9,
     "metadata": {},
     "output_type": "execute_result"
    }
   ],
   "source": [
    "CTC.sum()"
   ]
  },
  {
   "cell_type": "code",
   "execution_count": 10,
   "id": "e293ee3c-8dab-4cdf-bc0b-56f24d98fc6d",
   "metadata": {},
   "outputs": [
    {
     "data": {
      "text/plain": [
       "5585.79"
      ]
     },
     "execution_count": 10,
     "metadata": {},
     "output_type": "execute_result"
    }
   ],
   "source": [
    "sum(CTC)"
   ]
  },
  {
   "cell_type": "code",
   "execution_count": 11,
   "id": "3ed6bd5d-f85f-4512-aec7-1a6b3f83079b",
   "metadata": {},
   "outputs": [
    {
     "data": {
      "text/plain": [
       "np.float64(11.171579999999999)"
      ]
     },
     "execution_count": 11,
     "metadata": {},
     "output_type": "execute_result"
    }
   ],
   "source": [
    "CTC.mean()"
   ]
  },
  {
   "cell_type": "code",
   "execution_count": 12,
   "id": "119fdd72-3d69-4f4b-974e-5ff82c18e732",
   "metadata": {},
   "outputs": [
    {
     "data": {
      "text/plain": [
       "np.float64(5.99)"
      ]
     },
     "execution_count": 12,
     "metadata": {},
     "output_type": "execute_result"
    }
   ],
   "source": [
    "CTC.median()"
   ]
  },
  {
   "cell_type": "code",
   "execution_count": 13,
   "id": "9847c84e-9e63-4f60-849f-f0a4c4d8faea",
   "metadata": {},
   "outputs": [
    {
     "data": {
      "text/plain": [
       "<bound method Series.std of 0       3.43\n",
       "1       5.63\n",
       "2       4.17\n",
       "3       3.42\n",
       "4       3.14\n",
       "       ...  \n",
       "495    21.62\n",
       "496    13.19\n",
       "497    12.04\n",
       "498    20.80\n",
       "499    22.68\n",
       "Name: CTC (LPA), Length: 500, dtype: float64>"
      ]
     },
     "execution_count": 13,
     "metadata": {},
     "output_type": "execute_result"
    }
   ],
   "source": [
    "CTC.std"
   ]
  },
  {
   "cell_type": "code",
   "execution_count": 14,
   "id": "fdb773e0-0bd0-4e5b-a13e-688bdd62c9ef",
   "metadata": {},
   "outputs": [
    {
     "data": {
      "text/plain": [
       "<bound method Series.min of 0       3.43\n",
       "1       5.63\n",
       "2       4.17\n",
       "3       3.42\n",
       "4       3.14\n",
       "       ...  \n",
       "495    21.62\n",
       "496    13.19\n",
       "497    12.04\n",
       "498    20.80\n",
       "499    22.68\n",
       "Name: CTC (LPA), Length: 500, dtype: float64>"
      ]
     },
     "execution_count": 14,
     "metadata": {},
     "output_type": "execute_result"
    }
   ],
   "source": [
    "CTC.min"
   ]
  },
  {
   "cell_type": "code",
   "execution_count": 15,
   "id": "2be32841-d7b7-4f62-883a-40fa44b1d8cc",
   "metadata": {},
   "outputs": [
    {
     "data": {
      "text/plain": [
       "<bound method Series.max of 0       3.43\n",
       "1       5.63\n",
       "2       4.17\n",
       "3       3.42\n",
       "4       3.14\n",
       "       ...  \n",
       "495    21.62\n",
       "496    13.19\n",
       "497    12.04\n",
       "498    20.80\n",
       "499    22.68\n",
       "Name: CTC (LPA), Length: 500, dtype: float64>"
      ]
     },
     "execution_count": 15,
     "metadata": {},
     "output_type": "execute_result"
    }
   ],
   "source": [
    "CTC.max"
   ]
  },
  {
   "cell_type": "code",
   "execution_count": 16,
   "id": "e92b21bb-f229-4b8d-a3a5-8f058c1951c3",
   "metadata": {},
   "outputs": [
    {
     "data": {
      "text/plain": [
       "array([ 3.43,  5.63,  4.17,  3.42,  3.14,  5.92,  4.41,  4.71,  4.93,\n",
       "        5.31,  3.13,  5.73,  5.21,  4.9 ,  4.07,  4.66,  3.  ,  5.32,\n",
       "        5.8 ,  5.07,  4.72,  4.32,  4.16,  4.28,  3.96,  4.5 ,  5.38,\n",
       "        4.04,  4.73,  5.33,  5.6 ,  4.02,  3.98,  3.94,  4.65,  3.32,\n",
       "        3.1 ,  3.65,  3.84,  5.72,  3.03,  3.48,  3.15,  3.6 ,  5.05,\n",
       "        4.43,  5.87,  5.91,  4.45,  3.3 ,  3.72,  5.11,  5.5 ,  4.4 ,\n",
       "        4.96,  5.82,  5.95,  5.52,  4.8 ,  4.81,  3.68,  4.24,  4.31,\n",
       "        5.22,  5.69,  3.53,  5.85,  3.38,  5.01,  4.13,  4.59,  3.25,\n",
       "        4.35,  4.61,  5.88,  5.26,  3.33,  3.28,  4.21,  5.79,  5.65,\n",
       "        4.95,  4.76,  3.54,  5.28,  3.47,  3.75,  4.23,  5.17,  5.77,\n",
       "        5.86,  3.44,  5.55,  4.62,  3.4 ,  5.15,  3.01,  3.07,  5.53,\n",
       "        4.58,  5.12,  5.16,  3.89,  4.11,  5.35,  4.08,  3.05,  3.55,\n",
       "        3.58,  3.83,  3.17,  3.92,  5.96,  4.57,  3.06,  4.83,  3.97,\n",
       "        3.99,  5.45,  4.84,  4.25,  5.76,  4.33,  4.19,  4.05,  4.98,\n",
       "        5.49,  3.7 ,  4.27,  5.04,  4.87,  3.63,  5.18,  3.39,  4.64,\n",
       "        3.21,  4.56,  3.66,  5.19,  3.04,  3.5 ,  3.12,  5.7 ,  4.53,\n",
       "        4.74,  5.71,  3.74,  3.34,  5.39,  3.45,  4.69,  3.87,  3.46,\n",
       "        5.58,  4.7 ,  5.62,  3.22,  5.66,  3.37,  5.84,  4.34,  3.31,\n",
       "        3.88,  3.35,  5.4 ,  5.42,  4.36,  5.98,  4.99,  4.51, 22.43,\n",
       "       17.33, 10.93,  9.76, 24.14,  8.99, 16.95, 17.34, 15.32, 21.8 ,\n",
       "        9.19,  6.81, 28.13, 26.7 , 20.46,  9.95, 13.19, 13.75, 10.44,\n",
       "       16.15,  9.4 , 29.21, 10.98, 12.49, 19.66, 29.67, 20.32, 18.37,\n",
       "       26.34, 28.76, 23.5 , 19.82, 27.72, 10.03, 10.76, 12.15,  8.23,\n",
       "       26.3 , 22.44, 26.69, 20.91, 11.46, 11.63, 27.59,  7.88,  9.02,\n",
       "        9.85, 15.68, 21.47, 20.61, 21.27, 17.25,  8.48, 25.16, 19.21,\n",
       "        6.37, 13.54, 19.11, 24.6 , 28.  , 22.81,  6.83, 28.17, 24.38,\n",
       "       18.95, 13.56,  8.93, 24.96, 26.31, 29.24, 29.92, 16.28, 26.25,\n",
       "       23.  , 29.91, 10.96, 12.55, 11.76, 13.18, 11.29, 23.65, 25.19,\n",
       "       10.19, 27.52, 20.4 , 29.53, 29.25, 26.68, 25.29, 13.01, 23.56,\n",
       "       14.81,  8.2 , 11.24, 19.65, 20.16, 17.86, 10.43, 22.26, 10.82,\n",
       "       26.19, 22.3 , 20.37, 25.37, 26.53,  6.32,  8.08,  8.51, 24.94,\n",
       "        7.77, 27.74, 16.24, 18.08, 23.11,  8.3 , 15.74, 16.03,  9.51,\n",
       "       20.65, 14.59, 11.38, 18.07, 29.34, 20.42, 25.22,  8.33,  6.15,\n",
       "       19.86, 24.82, 13.23, 15.13,  9.14,  9.54, 12.71, 24.19, 15.77,\n",
       "       11.07,  7.57, 13.14, 29.39, 29.  , 24.25, 19.2 , 19.99, 22.52,\n",
       "        9.25, 15.62, 29.38, 20.44, 29.65,  8.95,  9.37,  8.75,  6.08,\n",
       "       15.44,  6.85, 27.22, 28.99,  6.75, 29.56, 21.4 , 27.83, 10.47,\n",
       "       15.36,  7.02, 17.65,  7.41, 17.38, 27.12, 21.77, 29.43, 16.21,\n",
       "       14.83, 21.87,  7.91, 23.26, 20.35, 16.75, 26.36, 24.98, 15.73,\n",
       "        6.28, 28.38, 27.37, 27.09,  8.7 ,  9.1 , 28.88, 11.39, 27.18,\n",
       "       22.46, 19.02, 23.12, 21.73, 21.45, 27.81,  6.6 , 16.22, 10.5 ,\n",
       "       19.17, 10.33, 14.44, 26.42, 29.03,  6.  , 11.56, 19.93, 26.62,\n",
       "       11.53,  8.38, 16.  , 17.91, 24.08, 16.65, 21.85, 18.03, 27.14,\n",
       "       20.23, 12.07, 18.82, 12.98, 23.29, 17.99, 20.34,  8.13, 21.34,\n",
       "       14.67, 21.62, 12.04, 20.8 , 22.68])"
      ]
     },
     "execution_count": 16,
     "metadata": {},
     "output_type": "execute_result"
    }
   ],
   "source": [
    "CTC.unique()"
   ]
  },
  {
   "cell_type": "code",
   "execution_count": 17,
   "id": "075e7be2-81d2-49ba-be92-c90771ff69d9",
   "metadata": {},
   "outputs": [
    {
     "data": {
      "text/plain": [
       "401"
      ]
     },
     "execution_count": 17,
     "metadata": {},
     "output_type": "execute_result"
    }
   ],
   "source": [
    "len(CTC.unique())"
   ]
  },
  {
   "cell_type": "code",
   "execution_count": 18,
   "id": "8419b15c-08f9-40a3-a827-a46181a7a31a",
   "metadata": {},
   "outputs": [
    {
     "data": {
      "text/plain": [
       "401"
      ]
     },
     "execution_count": 18,
     "metadata": {},
     "output_type": "execute_result"
    }
   ],
   "source": [
    "CTC.nunique()"
   ]
  },
  {
   "cell_type": "code",
   "execution_count": 19,
   "id": "4ffec55c-e4d0-48cf-8bd8-44889f191949",
   "metadata": {},
   "outputs": [
    {
     "data": {
      "text/plain": [
       "CTC (LPA)\n",
       "5.80     4\n",
       "3.98     4\n",
       "5.32     3\n",
       "5.52     3\n",
       "3.96     3\n",
       "        ..\n",
       "4.02     1\n",
       "4.90     1\n",
       "4.07     1\n",
       "3.10     1\n",
       "21.85    1\n",
       "Name: count, Length: 401, dtype: int64"
      ]
     },
     "execution_count": 19,
     "metadata": {},
     "output_type": "execute_result"
    }
   ],
   "source": [
    "CTC.value_counts()"
   ]
  },
  {
   "cell_type": "code",
   "execution_count": 20,
   "id": "df272ece-ceb9-49ed-b9bb-13ffaab3ce58",
   "metadata": {},
   "outputs": [
    {
     "data": {
      "text/plain": [
       "CTC (LPA)\n",
       "5.80     4\n",
       "3.98     4\n",
       "5.32     3\n",
       "5.52     3\n",
       "3.96     3\n",
       "        ..\n",
       "4.02     1\n",
       "4.90     1\n",
       "4.07     1\n",
       "3.10     1\n",
       "21.85    1\n",
       "Name: count, Length: 401, dtype: int64"
      ]
     },
     "execution_count": 20,
     "metadata": {},
     "output_type": "execute_result"
    }
   ],
   "source": [
    "CTC.value_counts(sort= True)"
   ]
  },
  {
   "cell_type": "code",
   "execution_count": 21,
   "id": "507c13a9-9f05-4819-b3c2-b21c02be7d3a",
   "metadata": {},
   "outputs": [
    {
     "data": {
      "text/plain": [
       "CTC (LPA)\n",
       "5.80     4\n",
       "3.98     4\n",
       "5.32     3\n",
       "5.52     3\n",
       "3.96     3\n",
       "        ..\n",
       "4.02     1\n",
       "4.90     1\n",
       "4.07     1\n",
       "3.10     1\n",
       "21.85    1\n",
       "Name: count, Length: 401, dtype: int64"
      ]
     },
     "execution_count": 21,
     "metadata": {},
     "output_type": "execute_result"
    }
   ],
   "source": [
    "CTC.value_counts(dropna= True)"
   ]
  },
  {
   "cell_type": "code",
   "execution_count": 22,
   "id": "4bd9c201-609e-4c33-aa46-51e2852ce197",
   "metadata": {},
   "outputs": [
    {
     "data": {
      "text/plain": [
       "CTC (LPA)\n",
       "3.00     1\n",
       "18.03    1\n",
       "27.14    1\n",
       "20.23    1\n",
       "12.07    1\n",
       "        ..\n",
       "3.70     3\n",
       "4.27     3\n",
       "6.85     3\n",
       "3.98     4\n",
       "5.80     4\n",
       "Name: count, Length: 401, dtype: int64"
      ]
     },
     "execution_count": 22,
     "metadata": {},
     "output_type": "execute_result"
    }
   ],
   "source": [
    "\n",
    "\n",
    "CTC.value_counts(ascending= True)"
   ]
  },
  {
   "cell_type": "code",
   "execution_count": 23,
   "id": "38529dec-e5b3-4e73-9ce2-f66352799111",
   "metadata": {},
   "outputs": [
    {
     "data": {
      "text/plain": [
       "CTC (LPA)\n",
       "5.80     4\n",
       "3.98     4\n",
       "5.32     3\n",
       "5.52     3\n",
       "3.96     3\n",
       "        ..\n",
       "4.02     1\n",
       "4.90     1\n",
       "4.07     1\n",
       "3.10     1\n",
       "21.85    1\n",
       "Name: count, Length: 401, dtype: int64"
      ]
     },
     "execution_count": 23,
     "metadata": {},
     "output_type": "execute_result"
    }
   ],
   "source": [
    "CTC.value_counts(ascending= False)"
   ]
  },
  {
   "cell_type": "code",
   "execution_count": 25,
   "id": "cf763238-64b8-4bbb-a3bb-a6ebdb652b24",
   "metadata": {},
   "outputs": [
    {
     "data": {
      "text/plain": [
       "CTC (LPA)\n",
       "5.80     4\n",
       "3.98     4\n",
       "5.32     3\n",
       "5.52     3\n",
       "3.96     3\n",
       "        ..\n",
       "4.02     1\n",
       "4.90     1\n",
       "4.07     1\n",
       "3.10     1\n",
       "21.85    1\n",
       "Name: count, Length: 401, dtype: int64"
      ]
     },
     "execution_count": 25,
     "metadata": {},
     "output_type": "execute_result"
    }
   ],
   "source": [
    "CTC.value_counts(sort = True, ascending = False, normalize = False)"
   ]
  },
  {
   "cell_type": "code",
   "execution_count": 26,
   "id": "4b6ad62c-4399-426b-9969-f46c02d509a2",
   "metadata": {},
   "outputs": [
    {
     "data": {
      "text/plain": [
       "CTC (LPA)\n",
       "5.80     0.008\n",
       "3.98     0.008\n",
       "5.32     0.006\n",
       "5.52     0.006\n",
       "3.96     0.006\n",
       "         ...  \n",
       "4.02     0.002\n",
       "4.90     0.002\n",
       "4.07     0.002\n",
       "3.10     0.002\n",
       "21.85    0.002\n",
       "Name: proportion, Length: 401, dtype: float64"
      ]
     },
     "execution_count": 26,
     "metadata": {},
     "output_type": "execute_result"
    }
   ],
   "source": [
    "CTC.value_counts(sort = True, ascending = False, normalize = True)"
   ]
  },
  {
   "cell_type": "code",
   "execution_count": 32,
   "id": "8aafbb32-dc24-429f-878a-cadb5ff9b5da",
   "metadata": {},
   "outputs": [
    {
     "data": {
      "text/plain": [
       "np.float64(1.0000000000000004)"
      ]
     },
     "execution_count": 32,
     "metadata": {},
     "output_type": "execute_result"
    }
   ],
   "source": [
    "CTC.value_counts(sort = True, ascending = False, normalize = True).sum()"
   ]
  },
  {
   "cell_type": "code",
   "execution_count": 28,
   "id": "58aa09e8-4078-4ab5-ba5d-3e4b148b9cd9",
   "metadata": {},
   "outputs": [
    {
     "data": {
      "text/plain": [
       "0.03"
      ]
     },
     "execution_count": 28,
     "metadata": {},
     "output_type": "execute_result"
    }
   ],
   "source": [
    "15/CTC.size"
   ]
  },
  {
   "cell_type": "code",
   "execution_count": 29,
   "id": "9eb19878-7c21-4db4-a25a-d2f897659bcf",
   "metadata": {},
   "outputs": [
    {
     "data": {
      "text/plain": [
       "0.012"
      ]
     },
     "execution_count": 29,
     "metadata": {},
     "output_type": "execute_result"
    }
   ],
   "source": [
    "6/CTC.size"
   ]
  },
  {
   "cell_type": "code",
   "execution_count": 30,
   "id": "eb3c87ec-9b83-4440-b289-a80d597a96de",
   "metadata": {},
   "outputs": [
    {
     "data": {
      "text/plain": [
       "(2.972, 8.384]      279\n",
       "(8.384, 13.768]      64\n",
       "(24.536, 29.92]      60\n",
       "(19.152, 24.536]     57\n",
       "(13.768, 19.152]     40\n",
       "Name: count, dtype: int64"
      ]
     },
     "execution_count": 30,
     "metadata": {},
     "output_type": "execute_result"
    }
   ],
   "source": [
    "CTC.value_counts(sort = True, ascending = False, normalize = False,bins = 5)"
   ]
  },
  {
   "cell_type": "code",
   "execution_count": 31,
   "id": "dd839958-b652-44e3-9bf9-5b5926b24970",
   "metadata": {},
   "outputs": [
    {
     "data": {
      "text/plain": [
       "(2.972, 8.384]      0.558\n",
       "(8.384, 13.768]     0.128\n",
       "(24.536, 29.92]     0.120\n",
       "(19.152, 24.536]    0.114\n",
       "(13.768, 19.152]    0.080\n",
       "Name: proportion, dtype: float64"
      ]
     },
     "execution_count": 31,
     "metadata": {},
     "output_type": "execute_result"
    }
   ],
   "source": [
    "CTC.value_counts(sort = True, ascending = False, normalize = True ,bins = 5)"
   ]
  },
  {
   "cell_type": "code",
   "execution_count": null,
   "id": "ccb7ce0c-f904-4cbd-b557-51a8cb48a802",
   "metadata": {},
   "outputs": [],
   "source": []
  }
 ],
 "metadata": {
  "kernelspec": {
   "display_name": "Python 3 (ipykernel)",
   "language": "python",
   "name": "python3"
  },
  "language_info": {
   "codemirror_mode": {
    "name": "ipython",
    "version": 3
   },
   "file_extension": ".py",
   "mimetype": "text/x-python",
   "name": "python",
   "nbconvert_exporter": "python",
   "pygments_lexer": "ipython3",
   "version": "3.13.3"
  }
 },
 "nbformat": 4,
 "nbformat_minor": 5
}
