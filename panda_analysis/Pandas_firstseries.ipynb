{
 "cells": [
  {
   "cell_type": "markdown",
   "id": "61b8bc96-1414-44c0-935f-913cae0d3897",
   "metadata": {},
   "source": [
    "# Pandas series"
   ]
  },
  {
   "cell_type": "code",
   "execution_count": 1,
   "id": "aa7951a0-60b3-4f9a-af08-3de31c7e4aa6",
   "metadata": {},
   "outputs": [],
   "source": [
    "import pandas as pd"
   ]
  },
  {
   "cell_type": "code",
   "execution_count": 2,
   "id": "e9e7e0e7-737e-4833-93cf-11116e9410da",
   "metadata": {},
   "outputs": [],
   "source": [
    "dataset= pd.read_csv(\"Campus_Placement_Tracker_500.csv\")"
   ]
  },
  {
   "cell_type": "code",
   "execution_count": 3,
   "id": "de28dbe8-1e7d-49dc-9e18-f6ae467e031c",
   "metadata": {},
   "outputs": [
    {
     "data": {
      "text/html": [
       "<div>\n",
       "<style scoped>\n",
       "    .dataframe tbody tr th:only-of-type {\n",
       "        vertical-align: middle;\n",
       "    }\n",
       "\n",
       "    .dataframe tbody tr th {\n",
       "        vertical-align: top;\n",
       "    }\n",
       "\n",
       "    .dataframe thead th {\n",
       "        text-align: right;\n",
       "    }\n",
       "</style>\n",
       "<table border=\"1\" class=\"dataframe\">\n",
       "  <thead>\n",
       "    <tr style=\"text-align: right;\">\n",
       "      <th></th>\n",
       "      <th>Roll Number</th>\n",
       "      <th>First Name</th>\n",
       "      <th>Last Name</th>\n",
       "      <th>Gender</th>\n",
       "      <th>Branch</th>\n",
       "      <th>Company</th>\n",
       "      <th>CTC (LPA)</th>\n",
       "      <th>Job Role</th>\n",
       "    </tr>\n",
       "  </thead>\n",
       "  <tbody>\n",
       "    <tr>\n",
       "      <th>0</th>\n",
       "      <td>22BCE6764</td>\n",
       "      <td>Shruti</td>\n",
       "      <td>Gupta</td>\n",
       "      <td>Female</td>\n",
       "      <td>Civil</td>\n",
       "      <td>Capgemini</td>\n",
       "      <td>3.43</td>\n",
       "      <td>Software Engineer</td>\n",
       "    </tr>\n",
       "    <tr>\n",
       "      <th>1</th>\n",
       "      <td>22BCE1856</td>\n",
       "      <td>Dev</td>\n",
       "      <td>Sharma</td>\n",
       "      <td>Male</td>\n",
       "      <td>Mechanical</td>\n",
       "      <td>Cognizant</td>\n",
       "      <td>5.63</td>\n",
       "      <td>Data Analyst</td>\n",
       "    </tr>\n",
       "    <tr>\n",
       "      <th>2</th>\n",
       "      <td>22BCE7769</td>\n",
       "      <td>Dev</td>\n",
       "      <td>Pandey</td>\n",
       "      <td>Male</td>\n",
       "      <td>ECE</td>\n",
       "      <td>TCS</td>\n",
       "      <td>4.17</td>\n",
       "      <td>Software Engineer</td>\n",
       "    </tr>\n",
       "    <tr>\n",
       "      <th>3</th>\n",
       "      <td>22BCE3591</td>\n",
       "      <td>Atharv</td>\n",
       "      <td>Mehta</td>\n",
       "      <td>Female</td>\n",
       "      <td>ECE</td>\n",
       "      <td>Infosys</td>\n",
       "      <td>3.42</td>\n",
       "      <td>DevOps Engineer</td>\n",
       "    </tr>\n",
       "    <tr>\n",
       "      <th>4</th>\n",
       "      <td>22BCE2533</td>\n",
       "      <td>Sai</td>\n",
       "      <td>Agarwal</td>\n",
       "      <td>Male</td>\n",
       "      <td>Civil</td>\n",
       "      <td>TCS</td>\n",
       "      <td>3.14</td>\n",
       "      <td>DevOps Engineer</td>\n",
       "    </tr>\n",
       "    <tr>\n",
       "      <th>...</th>\n",
       "      <td>...</td>\n",
       "      <td>...</td>\n",
       "      <td>...</td>\n",
       "      <td>...</td>\n",
       "      <td>...</td>\n",
       "      <td>...</td>\n",
       "      <td>...</td>\n",
       "      <td>...</td>\n",
       "    </tr>\n",
       "    <tr>\n",
       "      <th>495</th>\n",
       "      <td>22BCE9836</td>\n",
       "      <td>Aarav</td>\n",
       "      <td>Verma</td>\n",
       "      <td>Male</td>\n",
       "      <td>EEE</td>\n",
       "      <td>Google</td>\n",
       "      <td>21.62</td>\n",
       "      <td>Backend Developer</td>\n",
       "    </tr>\n",
       "    <tr>\n",
       "      <th>496</th>\n",
       "      <td>22BCE3684</td>\n",
       "      <td>Dev</td>\n",
       "      <td>Joshi</td>\n",
       "      <td>Female</td>\n",
       "      <td>Civil</td>\n",
       "      <td>Wipro</td>\n",
       "      <td>13.19</td>\n",
       "      <td>Data Analyst</td>\n",
       "    </tr>\n",
       "    <tr>\n",
       "      <th>497</th>\n",
       "      <td>22BCE3357</td>\n",
       "      <td>Ishaan</td>\n",
       "      <td>Reddy</td>\n",
       "      <td>Female</td>\n",
       "      <td>Civil</td>\n",
       "      <td>Google</td>\n",
       "      <td>12.04</td>\n",
       "      <td>DevOps Engineer</td>\n",
       "    </tr>\n",
       "    <tr>\n",
       "      <th>498</th>\n",
       "      <td>22BCE6715</td>\n",
       "      <td>Kritika</td>\n",
       "      <td>Kapoor</td>\n",
       "      <td>Male</td>\n",
       "      <td>IT</td>\n",
       "      <td>TCS</td>\n",
       "      <td>20.80</td>\n",
       "      <td>System Analyst</td>\n",
       "    </tr>\n",
       "    <tr>\n",
       "      <th>499</th>\n",
       "      <td>22BCE7062</td>\n",
       "      <td>Arjun</td>\n",
       "      <td>Kapoor</td>\n",
       "      <td>Male</td>\n",
       "      <td>Mechanical</td>\n",
       "      <td>Google</td>\n",
       "      <td>22.68</td>\n",
       "      <td>System Analyst</td>\n",
       "    </tr>\n",
       "  </tbody>\n",
       "</table>\n",
       "<p>500 rows × 8 columns</p>\n",
       "</div>"
      ],
      "text/plain": [
       "    Roll Number First Name Last Name  Gender      Branch    Company  \\\n",
       "0     22BCE6764     Shruti     Gupta  Female       Civil  Capgemini   \n",
       "1     22BCE1856        Dev    Sharma    Male  Mechanical  Cognizant   \n",
       "2     22BCE7769        Dev    Pandey    Male         ECE        TCS   \n",
       "3     22BCE3591     Atharv     Mehta  Female         ECE    Infosys   \n",
       "4     22BCE2533        Sai   Agarwal    Male       Civil        TCS   \n",
       "..          ...        ...       ...     ...         ...        ...   \n",
       "495   22BCE9836      Aarav     Verma    Male         EEE     Google   \n",
       "496   22BCE3684        Dev     Joshi  Female       Civil      Wipro   \n",
       "497   22BCE3357     Ishaan     Reddy  Female       Civil     Google   \n",
       "498   22BCE6715    Kritika    Kapoor    Male          IT        TCS   \n",
       "499   22BCE7062      Arjun    Kapoor    Male  Mechanical     Google   \n",
       "\n",
       "     CTC (LPA)           Job Role  \n",
       "0         3.43  Software Engineer  \n",
       "1         5.63       Data Analyst  \n",
       "2         4.17  Software Engineer  \n",
       "3         3.42    DevOps Engineer  \n",
       "4         3.14    DevOps Engineer  \n",
       "..         ...                ...  \n",
       "495      21.62  Backend Developer  \n",
       "496      13.19       Data Analyst  \n",
       "497      12.04    DevOps Engineer  \n",
       "498      20.80     System Analyst  \n",
       "499      22.68     System Analyst  \n",
       "\n",
       "[500 rows x 8 columns]"
      ]
     },
     "execution_count": 3,
     "metadata": {},
     "output_type": "execute_result"
    }
   ],
   "source": [
    "dataset"
   ]
  },
  {
   "cell_type": "code",
   "execution_count": 4,
   "id": "bcf9c261-0c0a-4b58-b94f-569676033bcf",
   "metadata": {},
   "outputs": [
    {
     "name": "stdout",
     "output_type": "stream",
     "text": [
      "<class 'pandas.core.frame.DataFrame'>\n",
      "RangeIndex: 500 entries, 0 to 499\n",
      "Data columns (total 8 columns):\n",
      " #   Column       Non-Null Count  Dtype  \n",
      "---  ------       --------------  -----  \n",
      " 0   Roll Number  500 non-null    object \n",
      " 1   First Name   500 non-null    object \n",
      " 2   Last Name    500 non-null    object \n",
      " 3   Gender       500 non-null    object \n",
      " 4   Branch       500 non-null    object \n",
      " 5   Company      500 non-null    object \n",
      " 6   CTC (LPA)    500 non-null    float64\n",
      " 7   Job Role     500 non-null    object \n",
      "dtypes: float64(1), object(7)\n",
      "memory usage: 31.4+ KB\n"
     ]
    }
   ],
   "source": [
    "dataset.info()"
   ]
  },
  {
   "cell_type": "code",
   "execution_count": 5,
   "id": "f1f05cdf-aa2d-4815-827a-9bbf4a0c797a",
   "metadata": {},
   "outputs": [
    {
     "data": {
      "text/plain": [
       "0      Software Engineer\n",
       "1           Data Analyst\n",
       "2      Software Engineer\n",
       "3        DevOps Engineer\n",
       "4        DevOps Engineer\n",
       "             ...        \n",
       "495    Backend Developer\n",
       "496         Data Analyst\n",
       "497      DevOps Engineer\n",
       "498       System Analyst\n",
       "499       System Analyst\n",
       "Name: Job Role, Length: 500, dtype: object"
      ]
     },
     "execution_count": 5,
     "metadata": {},
     "output_type": "execute_result"
    }
   ],
   "source": [
    "dataset[\"Job Role\"]"
   ]
  },
  {
   "cell_type": "code",
   "execution_count": 6,
   "id": "5c814a7c-6c0f-450c-a3d8-c19dbebd757e",
   "metadata": {},
   "outputs": [
    {
     "data": {
      "text/plain": [
       "pandas.core.series.Series"
      ]
     },
     "execution_count": 6,
     "metadata": {},
     "output_type": "execute_result"
    }
   ],
   "source": [
    "type(dataset[\"Job Role\"])"
   ]
  },
  {
   "cell_type": "code",
   "execution_count": 11,
   "id": "c8b348a9-a783-4648-9d60-0053cecb832b",
   "metadata": {},
   "outputs": [
    {
     "data": {
      "text/plain": [
       "True"
      ]
     },
     "execution_count": 11,
     "metadata": {},
     "output_type": "execute_result"
    }
   ],
   "source": [
    "dataset[\"Company\"].equals(dataset.Company)"
   ]
  },
  {
   "cell_type": "code",
   "execution_count": 13,
   "id": "7a1a582a-815b-4369-8fa7-af2d049778cf",
   "metadata": {},
   "outputs": [],
   "source": [
    "Branch = dataset[\"Branch\"]"
   ]
  },
  {
   "cell_type": "code",
   "execution_count": 14,
   "id": "933e0de2-e189-492f-a75a-5a4b020eea63",
   "metadata": {},
   "outputs": [
    {
     "data": {
      "text/html": [
       "<div>\n",
       "<style scoped>\n",
       "    .dataframe tbody tr th:only-of-type {\n",
       "        vertical-align: middle;\n",
       "    }\n",
       "\n",
       "    .dataframe tbody tr th {\n",
       "        vertical-align: top;\n",
       "    }\n",
       "\n",
       "    .dataframe thead th {\n",
       "        text-align: right;\n",
       "    }\n",
       "</style>\n",
       "<table border=\"1\" class=\"dataframe\">\n",
       "  <thead>\n",
       "    <tr style=\"text-align: right;\">\n",
       "      <th></th>\n",
       "      <th>Roll Number</th>\n",
       "      <th>First Name</th>\n",
       "      <th>Last Name</th>\n",
       "      <th>Gender</th>\n",
       "      <th>Branch</th>\n",
       "      <th>Company</th>\n",
       "      <th>CTC (LPA)</th>\n",
       "      <th>Job Role</th>\n",
       "    </tr>\n",
       "  </thead>\n",
       "  <tbody>\n",
       "    <tr>\n",
       "      <th>0</th>\n",
       "      <td>22BCE6764</td>\n",
       "      <td>Shruti</td>\n",
       "      <td>Gupta</td>\n",
       "      <td>Female</td>\n",
       "      <td>Civil</td>\n",
       "      <td>Capgemini</td>\n",
       "      <td>3.43</td>\n",
       "      <td>Software Engineer</td>\n",
       "    </tr>\n",
       "    <tr>\n",
       "      <th>1</th>\n",
       "      <td>22BCE1856</td>\n",
       "      <td>Dev</td>\n",
       "      <td>Sharma</td>\n",
       "      <td>Male</td>\n",
       "      <td>Mechanical</td>\n",
       "      <td>Cognizant</td>\n",
       "      <td>5.63</td>\n",
       "      <td>Data Analyst</td>\n",
       "    </tr>\n",
       "    <tr>\n",
       "      <th>2</th>\n",
       "      <td>22BCE7769</td>\n",
       "      <td>Dev</td>\n",
       "      <td>Pandey</td>\n",
       "      <td>Male</td>\n",
       "      <td>ECE</td>\n",
       "      <td>TCS</td>\n",
       "      <td>4.17</td>\n",
       "      <td>Software Engineer</td>\n",
       "    </tr>\n",
       "    <tr>\n",
       "      <th>3</th>\n",
       "      <td>22BCE3591</td>\n",
       "      <td>Atharv</td>\n",
       "      <td>Mehta</td>\n",
       "      <td>Female</td>\n",
       "      <td>ECE</td>\n",
       "      <td>Infosys</td>\n",
       "      <td>3.42</td>\n",
       "      <td>DevOps Engineer</td>\n",
       "    </tr>\n",
       "    <tr>\n",
       "      <th>4</th>\n",
       "      <td>22BCE2533</td>\n",
       "      <td>Sai</td>\n",
       "      <td>Agarwal</td>\n",
       "      <td>Male</td>\n",
       "      <td>Civil</td>\n",
       "      <td>TCS</td>\n",
       "      <td>3.14</td>\n",
       "      <td>DevOps Engineer</td>\n",
       "    </tr>\n",
       "  </tbody>\n",
       "</table>\n",
       "</div>"
      ],
      "text/plain": [
       "  Roll Number First Name Last Name  Gender      Branch    Company  CTC (LPA)  \\\n",
       "0   22BCE6764     Shruti     Gupta  Female       Civil  Capgemini       3.43   \n",
       "1   22BCE1856        Dev    Sharma    Male  Mechanical  Cognizant       5.63   \n",
       "2   22BCE7769        Dev    Pandey    Male         ECE        TCS       4.17   \n",
       "3   22BCE3591     Atharv     Mehta  Female         ECE    Infosys       3.42   \n",
       "4   22BCE2533        Sai   Agarwal    Male       Civil        TCS       3.14   \n",
       "\n",
       "            Job Role  \n",
       "0  Software Engineer  \n",
       "1       Data Analyst  \n",
       "2  Software Engineer  \n",
       "3    DevOps Engineer  \n",
       "4    DevOps Engineer  "
      ]
     },
     "execution_count": 14,
     "metadata": {},
     "output_type": "execute_result"
    }
   ],
   "source": [
    "dataset.head()"
   ]
  },
  {
   "cell_type": "code",
   "execution_count": 15,
   "id": "5804e539-418c-4d75-9534-9ec5870e46b6",
   "metadata": {},
   "outputs": [
    {
     "data": {
      "text/html": [
       "<div>\n",
       "<style scoped>\n",
       "    .dataframe tbody tr th:only-of-type {\n",
       "        vertical-align: middle;\n",
       "    }\n",
       "\n",
       "    .dataframe tbody tr th {\n",
       "        vertical-align: top;\n",
       "    }\n",
       "\n",
       "    .dataframe thead th {\n",
       "        text-align: right;\n",
       "    }\n",
       "</style>\n",
       "<table border=\"1\" class=\"dataframe\">\n",
       "  <thead>\n",
       "    <tr style=\"text-align: right;\">\n",
       "      <th></th>\n",
       "      <th>Roll Number</th>\n",
       "      <th>First Name</th>\n",
       "      <th>Last Name</th>\n",
       "      <th>Gender</th>\n",
       "      <th>Branch</th>\n",
       "      <th>Company</th>\n",
       "      <th>CTC (LPA)</th>\n",
       "      <th>Job Role</th>\n",
       "    </tr>\n",
       "  </thead>\n",
       "  <tbody>\n",
       "    <tr>\n",
       "      <th>495</th>\n",
       "      <td>22BCE9836</td>\n",
       "      <td>Aarav</td>\n",
       "      <td>Verma</td>\n",
       "      <td>Male</td>\n",
       "      <td>EEE</td>\n",
       "      <td>Google</td>\n",
       "      <td>21.62</td>\n",
       "      <td>Backend Developer</td>\n",
       "    </tr>\n",
       "    <tr>\n",
       "      <th>496</th>\n",
       "      <td>22BCE3684</td>\n",
       "      <td>Dev</td>\n",
       "      <td>Joshi</td>\n",
       "      <td>Female</td>\n",
       "      <td>Civil</td>\n",
       "      <td>Wipro</td>\n",
       "      <td>13.19</td>\n",
       "      <td>Data Analyst</td>\n",
       "    </tr>\n",
       "    <tr>\n",
       "      <th>497</th>\n",
       "      <td>22BCE3357</td>\n",
       "      <td>Ishaan</td>\n",
       "      <td>Reddy</td>\n",
       "      <td>Female</td>\n",
       "      <td>Civil</td>\n",
       "      <td>Google</td>\n",
       "      <td>12.04</td>\n",
       "      <td>DevOps Engineer</td>\n",
       "    </tr>\n",
       "    <tr>\n",
       "      <th>498</th>\n",
       "      <td>22BCE6715</td>\n",
       "      <td>Kritika</td>\n",
       "      <td>Kapoor</td>\n",
       "      <td>Male</td>\n",
       "      <td>IT</td>\n",
       "      <td>TCS</td>\n",
       "      <td>20.80</td>\n",
       "      <td>System Analyst</td>\n",
       "    </tr>\n",
       "    <tr>\n",
       "      <th>499</th>\n",
       "      <td>22BCE7062</td>\n",
       "      <td>Arjun</td>\n",
       "      <td>Kapoor</td>\n",
       "      <td>Male</td>\n",
       "      <td>Mechanical</td>\n",
       "      <td>Google</td>\n",
       "      <td>22.68</td>\n",
       "      <td>System Analyst</td>\n",
       "    </tr>\n",
       "  </tbody>\n",
       "</table>\n",
       "</div>"
      ],
      "text/plain": [
       "    Roll Number First Name Last Name  Gender      Branch Company  CTC (LPA)  \\\n",
       "495   22BCE9836      Aarav     Verma    Male         EEE  Google      21.62   \n",
       "496   22BCE3684        Dev     Joshi  Female       Civil   Wipro      13.19   \n",
       "497   22BCE3357     Ishaan     Reddy  Female       Civil  Google      12.04   \n",
       "498   22BCE6715    Kritika    Kapoor    Male          IT     TCS      20.80   \n",
       "499   22BCE7062      Arjun    Kapoor    Male  Mechanical  Google      22.68   \n",
       "\n",
       "              Job Role  \n",
       "495  Backend Developer  \n",
       "496       Data Analyst  \n",
       "497    DevOps Engineer  \n",
       "498     System Analyst  \n",
       "499     System Analyst  "
      ]
     },
     "execution_count": 15,
     "metadata": {},
     "output_type": "execute_result"
    }
   ],
   "source": [
    "dataset.tail()"
   ]
  },
  {
   "cell_type": "code",
   "execution_count": 18,
   "id": "ab4ad0bc-51a7-425c-9a6f-d24940094312",
   "metadata": {},
   "outputs": [
    {
     "data": {
      "text/plain": [
       "dtype('O')"
      ]
     },
     "execution_count": 18,
     "metadata": {},
     "output_type": "execute_result"
    }
   ],
   "source": [
    "Branch.dtype"
   ]
  },
  {
   "cell_type": "code",
   "execution_count": 19,
   "id": "c91a2d3b-079b-48fa-8b2e-0478c70edeee",
   "metadata": {},
   "outputs": [
    {
     "data": {
      "text/plain": [
       "(500,)"
      ]
     },
     "execution_count": 19,
     "metadata": {},
     "output_type": "execute_result"
    }
   ],
   "source": [
    "Branch.shape"
   ]
  },
  {
   "cell_type": "code",
   "execution_count": 20,
   "id": "df0f4e85-2998-40bf-8679-2599c520b007",
   "metadata": {},
   "outputs": [
    {
     "data": {
      "text/plain": [
       "500"
      ]
     },
     "execution_count": 20,
     "metadata": {},
     "output_type": "execute_result"
    }
   ],
   "source": [
    "len(Branch)"
   ]
  },
  {
   "cell_type": "code",
   "execution_count": 21,
   "id": "4ad6682a-5559-4c80-ace8-60aadf5c0e9f",
   "metadata": {},
   "outputs": [
    {
     "data": {
      "text/plain": [
       "RangeIndex(start=0, stop=500, step=1)"
      ]
     },
     "execution_count": 21,
     "metadata": {},
     "output_type": "execute_result"
    }
   ],
   "source": [
    "Branch.index"
   ]
  },
  {
   "cell_type": "code",
   "execution_count": 22,
   "id": "67763f04-63db-483b-86dd-8161437a7c49",
   "metadata": {},
   "outputs": [
    {
     "name": "stdout",
     "output_type": "stream",
     "text": [
      "<class 'pandas.core.series.Series'>\n",
      "RangeIndex: 500 entries, 0 to 499\n",
      "Series name: Branch\n",
      "Non-Null Count  Dtype \n",
      "--------------  ----- \n",
      "500 non-null    object\n",
      "dtypes: object(1)\n",
      "memory usage: 4.0+ KB\n"
     ]
    }
   ],
   "source": [
    "Branch.info()"
   ]
  },
  {
   "cell_type": "code",
   "execution_count": 23,
   "id": "08bd9241-1b74-4f93-b1c2-833ca16083c9",
   "metadata": {},
   "outputs": [
    {
     "data": {
      "text/html": [
       "<div>\n",
       "<style scoped>\n",
       "    .dataframe tbody tr th:only-of-type {\n",
       "        vertical-align: middle;\n",
       "    }\n",
       "\n",
       "    .dataframe tbody tr th {\n",
       "        vertical-align: top;\n",
       "    }\n",
       "\n",
       "    .dataframe thead th {\n",
       "        text-align: right;\n",
       "    }\n",
       "</style>\n",
       "<table border=\"1\" class=\"dataframe\">\n",
       "  <thead>\n",
       "    <tr style=\"text-align: right;\">\n",
       "      <th></th>\n",
       "      <th>Branch</th>\n",
       "    </tr>\n",
       "  </thead>\n",
       "  <tbody>\n",
       "    <tr>\n",
       "      <th>0</th>\n",
       "      <td>Civil</td>\n",
       "    </tr>\n",
       "    <tr>\n",
       "      <th>1</th>\n",
       "      <td>Mechanical</td>\n",
       "    </tr>\n",
       "    <tr>\n",
       "      <th>2</th>\n",
       "      <td>ECE</td>\n",
       "    </tr>\n",
       "    <tr>\n",
       "      <th>3</th>\n",
       "      <td>ECE</td>\n",
       "    </tr>\n",
       "    <tr>\n",
       "      <th>4</th>\n",
       "      <td>Civil</td>\n",
       "    </tr>\n",
       "    <tr>\n",
       "      <th>...</th>\n",
       "      <td>...</td>\n",
       "    </tr>\n",
       "    <tr>\n",
       "      <th>495</th>\n",
       "      <td>EEE</td>\n",
       "    </tr>\n",
       "    <tr>\n",
       "      <th>496</th>\n",
       "      <td>Civil</td>\n",
       "    </tr>\n",
       "    <tr>\n",
       "      <th>497</th>\n",
       "      <td>Civil</td>\n",
       "    </tr>\n",
       "    <tr>\n",
       "      <th>498</th>\n",
       "      <td>IT</td>\n",
       "    </tr>\n",
       "    <tr>\n",
       "      <th>499</th>\n",
       "      <td>Mechanical</td>\n",
       "    </tr>\n",
       "  </tbody>\n",
       "</table>\n",
       "<p>500 rows × 1 columns</p>\n",
       "</div>"
      ],
      "text/plain": [
       "         Branch\n",
       "0         Civil\n",
       "1    Mechanical\n",
       "2           ECE\n",
       "3           ECE\n",
       "4         Civil\n",
       "..          ...\n",
       "495         EEE\n",
       "496       Civil\n",
       "497       Civil\n",
       "498          IT\n",
       "499  Mechanical\n",
       "\n",
       "[500 rows x 1 columns]"
      ]
     },
     "execution_count": 23,
     "metadata": {},
     "output_type": "execute_result"
    }
   ],
   "source": [
    "Branch.to_frame()"
   ]
  },
  {
   "cell_type": "code",
   "execution_count": null,
   "id": "61f2ef94-a82f-4263-a03a-12f341eb033e",
   "metadata": {},
   "outputs": [],
   "source": []
  }
 ],
 "metadata": {
  "kernelspec": {
   "display_name": "Python 3 (ipykernel)",
   "language": "python",
   "name": "python3"
  },
  "language_info": {
   "codemirror_mode": {
    "name": "ipython",
    "version": 3
   },
   "file_extension": ".py",
   "mimetype": "text/x-python",
   "name": "python",
   "nbconvert_exporter": "python",
   "pygments_lexer": "ipython3",
   "version": "3.13.3"
  }
 },
 "nbformat": 4,
 "nbformat_minor": 5
}
