{
 "cells": [
  {
   "cell_type": "markdown",
   "id": "117c48b0-660d-42b9-9cc9-481b46af454f",
   "metadata": {},
   "source": [
    "# Pandas GroupBy Operations"
   ]
  },
  {
   "cell_type": "markdown",
   "id": "65bdd56e-cbc3-4154-a90e-a3da4e66139c",
   "metadata": {},
   "source": [
    "## Understanding GroupBy Object"
   ]
  },
  {
   "cell_type": "code",
   "execution_count": 15,
   "id": "a7aacdea-4f00-4637-9036-e6643f6e2b0a",
   "metadata": {},
   "outputs": [],
   "source": [
    "import pandas as pd"
   ]
  },
  {
   "cell_type": "code",
   "execution_count": 17,
   "id": "0126ceb5-bd55-4b54-85f9-625454e356ee",
   "metadata": {},
   "outputs": [],
   "source": [
    "dataset= pd.read_csv(\"Campus_Placement_Tracker_500.csv\")"
   ]
  },
  {
   "cell_type": "code",
   "execution_count": 19,
   "id": "91d131c1-2c3f-47cf-8514-6f88866299e2",
   "metadata": {},
   "outputs": [
    {
     "data": {
      "text/html": [
       "<div>\n",
       "<style scoped>\n",
       "    .dataframe tbody tr th:only-of-type {\n",
       "        vertical-align: middle;\n",
       "    }\n",
       "\n",
       "    .dataframe tbody tr th {\n",
       "        vertical-align: top;\n",
       "    }\n",
       "\n",
       "    .dataframe thead th {\n",
       "        text-align: right;\n",
       "    }\n",
       "</style>\n",
       "<table border=\"1\" class=\"dataframe\">\n",
       "  <thead>\n",
       "    <tr style=\"text-align: right;\">\n",
       "      <th></th>\n",
       "      <th>Roll Number</th>\n",
       "      <th>First Name</th>\n",
       "      <th>Last Name</th>\n",
       "      <th>Gender</th>\n",
       "      <th>Branch</th>\n",
       "      <th>Company</th>\n",
       "      <th>CTC (LPA)</th>\n",
       "      <th>Job Role</th>\n",
       "    </tr>\n",
       "  </thead>\n",
       "  <tbody>\n",
       "    <tr>\n",
       "      <th>0</th>\n",
       "      <td>22BCE6764</td>\n",
       "      <td>Shruti</td>\n",
       "      <td>Gupta</td>\n",
       "      <td>Female</td>\n",
       "      <td>Civil</td>\n",
       "      <td>Capgemini</td>\n",
       "      <td>3.43</td>\n",
       "      <td>Software Engineer</td>\n",
       "    </tr>\n",
       "    <tr>\n",
       "      <th>1</th>\n",
       "      <td>22BCE1856</td>\n",
       "      <td>Dev</td>\n",
       "      <td>Sharma</td>\n",
       "      <td>Male</td>\n",
       "      <td>Mechanical</td>\n",
       "      <td>Cognizant</td>\n",
       "      <td>5.63</td>\n",
       "      <td>Data Analyst</td>\n",
       "    </tr>\n",
       "    <tr>\n",
       "      <th>2</th>\n",
       "      <td>22BCE7769</td>\n",
       "      <td>Dev</td>\n",
       "      <td>Pandey</td>\n",
       "      <td>Male</td>\n",
       "      <td>ECE</td>\n",
       "      <td>TCS</td>\n",
       "      <td>4.17</td>\n",
       "      <td>Software Engineer</td>\n",
       "    </tr>\n",
       "    <tr>\n",
       "      <th>3</th>\n",
       "      <td>22BCE3591</td>\n",
       "      <td>Atharv</td>\n",
       "      <td>Mehta</td>\n",
       "      <td>Female</td>\n",
       "      <td>ECE</td>\n",
       "      <td>Infosys</td>\n",
       "      <td>3.42</td>\n",
       "      <td>DevOps Engineer</td>\n",
       "    </tr>\n",
       "    <tr>\n",
       "      <th>4</th>\n",
       "      <td>22BCE2533</td>\n",
       "      <td>Sai</td>\n",
       "      <td>Agarwal</td>\n",
       "      <td>Male</td>\n",
       "      <td>Civil</td>\n",
       "      <td>TCS</td>\n",
       "      <td>3.14</td>\n",
       "      <td>DevOps Engineer</td>\n",
       "    </tr>\n",
       "  </tbody>\n",
       "</table>\n",
       "</div>"
      ],
      "text/plain": [
       "  Roll Number First Name Last Name  Gender      Branch    Company  CTC (LPA)  \\\n",
       "0   22BCE6764     Shruti     Gupta  Female       Civil  Capgemini       3.43   \n",
       "1   22BCE1856        Dev    Sharma    Male  Mechanical  Cognizant       5.63   \n",
       "2   22BCE7769        Dev    Pandey    Male         ECE        TCS       4.17   \n",
       "3   22BCE3591     Atharv     Mehta  Female         ECE    Infosys       3.42   \n",
       "4   22BCE2533        Sai   Agarwal    Male       Civil        TCS       3.14   \n",
       "\n",
       "            Job Role  \n",
       "0  Software Engineer  \n",
       "1       Data Analyst  \n",
       "2  Software Engineer  \n",
       "3    DevOps Engineer  \n",
       "4    DevOps Engineer  "
      ]
     },
     "execution_count": 19,
     "metadata": {},
     "output_type": "execute_result"
    }
   ],
   "source": [
    "dataset.head()"
   ]
  },
  {
   "cell_type": "code",
   "execution_count": 21,
   "id": "9b24c3f1-016e-4601-b690-aa45cba5d733",
   "metadata": {},
   "outputs": [
    {
     "data": {
      "text/html": [
       "<div>\n",
       "<style scoped>\n",
       "    .dataframe tbody tr th:only-of-type {\n",
       "        vertical-align: middle;\n",
       "    }\n",
       "\n",
       "    .dataframe tbody tr th {\n",
       "        vertical-align: top;\n",
       "    }\n",
       "\n",
       "    .dataframe thead th {\n",
       "        text-align: right;\n",
       "    }\n",
       "</style>\n",
       "<table border=\"1\" class=\"dataframe\">\n",
       "  <thead>\n",
       "    <tr style=\"text-align: right;\">\n",
       "      <th></th>\n",
       "      <th>Roll Number</th>\n",
       "      <th>First Name</th>\n",
       "      <th>Last Name</th>\n",
       "      <th>Gender</th>\n",
       "      <th>Branch</th>\n",
       "      <th>Company</th>\n",
       "      <th>CTC (LPA)</th>\n",
       "      <th>Job Role</th>\n",
       "    </tr>\n",
       "  </thead>\n",
       "  <tbody>\n",
       "    <tr>\n",
       "      <th>495</th>\n",
       "      <td>22BCE9836</td>\n",
       "      <td>Aarav</td>\n",
       "      <td>Verma</td>\n",
       "      <td>Male</td>\n",
       "      <td>EEE</td>\n",
       "      <td>Google</td>\n",
       "      <td>21.62</td>\n",
       "      <td>Backend Developer</td>\n",
       "    </tr>\n",
       "    <tr>\n",
       "      <th>496</th>\n",
       "      <td>22BCE3684</td>\n",
       "      <td>Dev</td>\n",
       "      <td>Joshi</td>\n",
       "      <td>Female</td>\n",
       "      <td>Civil</td>\n",
       "      <td>Wipro</td>\n",
       "      <td>13.19</td>\n",
       "      <td>Data Analyst</td>\n",
       "    </tr>\n",
       "    <tr>\n",
       "      <th>497</th>\n",
       "      <td>22BCE3357</td>\n",
       "      <td>Ishaan</td>\n",
       "      <td>Reddy</td>\n",
       "      <td>Female</td>\n",
       "      <td>Civil</td>\n",
       "      <td>Google</td>\n",
       "      <td>12.04</td>\n",
       "      <td>DevOps Engineer</td>\n",
       "    </tr>\n",
       "    <tr>\n",
       "      <th>498</th>\n",
       "      <td>22BCE6715</td>\n",
       "      <td>Kritika</td>\n",
       "      <td>Kapoor</td>\n",
       "      <td>Male</td>\n",
       "      <td>IT</td>\n",
       "      <td>TCS</td>\n",
       "      <td>20.80</td>\n",
       "      <td>System Analyst</td>\n",
       "    </tr>\n",
       "    <tr>\n",
       "      <th>499</th>\n",
       "      <td>22BCE7062</td>\n",
       "      <td>Arjun</td>\n",
       "      <td>Kapoor</td>\n",
       "      <td>Male</td>\n",
       "      <td>Mechanical</td>\n",
       "      <td>Google</td>\n",
       "      <td>22.68</td>\n",
       "      <td>System Analyst</td>\n",
       "    </tr>\n",
       "  </tbody>\n",
       "</table>\n",
       "</div>"
      ],
      "text/plain": [
       "    Roll Number First Name Last Name  Gender      Branch Company  CTC (LPA)  \\\n",
       "495   22BCE9836      Aarav     Verma    Male         EEE  Google      21.62   \n",
       "496   22BCE3684        Dev     Joshi  Female       Civil   Wipro      13.19   \n",
       "497   22BCE3357     Ishaan     Reddy  Female       Civil  Google      12.04   \n",
       "498   22BCE6715    Kritika    Kapoor    Male          IT     TCS      20.80   \n",
       "499   22BCE7062      Arjun    Kapoor    Male  Mechanical  Google      22.68   \n",
       "\n",
       "              Job Role  \n",
       "495  Backend Developer  \n",
       "496       Data Analyst  \n",
       "497    DevOps Engineer  \n",
       "498     System Analyst  \n",
       "499     System Analyst  "
      ]
     },
     "execution_count": 21,
     "metadata": {},
     "output_type": "execute_result"
    }
   ],
   "source": [
    "dataset.tail()"
   ]
  },
  {
   "cell_type": "code",
   "execution_count": 23,
   "id": "4043008f-ff55-4508-9097-394bbd89a7ee",
   "metadata": {},
   "outputs": [
    {
     "name": "stdout",
     "output_type": "stream",
     "text": [
      "<class 'pandas.core.frame.DataFrame'>\n",
      "RangeIndex: 500 entries, 0 to 499\n",
      "Data columns (total 8 columns):\n",
      " #   Column       Non-Null Count  Dtype  \n",
      "---  ------       --------------  -----  \n",
      " 0   Roll Number  500 non-null    object \n",
      " 1   First Name   500 non-null    object \n",
      " 2   Last Name    500 non-null    object \n",
      " 3   Gender       500 non-null    object \n",
      " 4   Branch       500 non-null    object \n",
      " 5   Company      500 non-null    object \n",
      " 6   CTC (LPA)    500 non-null    float64\n",
      " 7   Job Role     500 non-null    object \n",
      "dtypes: float64(1), object(7)\n",
      "memory usage: 31.4+ KB\n"
     ]
    }
   ],
   "source": [
    "dataset.info()"
   ]
  },
  {
   "cell_type": "code",
   "execution_count": 25,
   "id": "c7bd3257-2b53-4aa7-9f86-d0fbc9dc2853",
   "metadata": {},
   "outputs": [],
   "source": [
    "dataset_slice = dataset.iloc[:10,[3,6]]"
   ]
  },
  {
   "cell_type": "code",
   "execution_count": 27,
   "id": "20f74d26-434b-411a-bc63-9c87131e9be5",
   "metadata": {},
   "outputs": [
    {
     "data": {
      "text/html": [
       "<div>\n",
       "<style scoped>\n",
       "    .dataframe tbody tr th:only-of-type {\n",
       "        vertical-align: middle;\n",
       "    }\n",
       "\n",
       "    .dataframe tbody tr th {\n",
       "        vertical-align: top;\n",
       "    }\n",
       "\n",
       "    .dataframe thead th {\n",
       "        text-align: right;\n",
       "    }\n",
       "</style>\n",
       "<table border=\"1\" class=\"dataframe\">\n",
       "  <thead>\n",
       "    <tr style=\"text-align: right;\">\n",
       "      <th></th>\n",
       "      <th>Gender</th>\n",
       "      <th>CTC (LPA)</th>\n",
       "    </tr>\n",
       "  </thead>\n",
       "  <tbody>\n",
       "    <tr>\n",
       "      <th>0</th>\n",
       "      <td>Female</td>\n",
       "      <td>3.43</td>\n",
       "    </tr>\n",
       "    <tr>\n",
       "      <th>1</th>\n",
       "      <td>Male</td>\n",
       "      <td>5.63</td>\n",
       "    </tr>\n",
       "    <tr>\n",
       "      <th>2</th>\n",
       "      <td>Male</td>\n",
       "      <td>4.17</td>\n",
       "    </tr>\n",
       "    <tr>\n",
       "      <th>3</th>\n",
       "      <td>Female</td>\n",
       "      <td>3.42</td>\n",
       "    </tr>\n",
       "    <tr>\n",
       "      <th>4</th>\n",
       "      <td>Male</td>\n",
       "      <td>3.14</td>\n",
       "    </tr>\n",
       "    <tr>\n",
       "      <th>5</th>\n",
       "      <td>Female</td>\n",
       "      <td>5.92</td>\n",
       "    </tr>\n",
       "    <tr>\n",
       "      <th>6</th>\n",
       "      <td>Female</td>\n",
       "      <td>4.41</td>\n",
       "    </tr>\n",
       "    <tr>\n",
       "      <th>7</th>\n",
       "      <td>Female</td>\n",
       "      <td>4.71</td>\n",
       "    </tr>\n",
       "    <tr>\n",
       "      <th>8</th>\n",
       "      <td>Male</td>\n",
       "      <td>4.93</td>\n",
       "    </tr>\n",
       "    <tr>\n",
       "      <th>9</th>\n",
       "      <td>Male</td>\n",
       "      <td>5.31</td>\n",
       "    </tr>\n",
       "  </tbody>\n",
       "</table>\n",
       "</div>"
      ],
      "text/plain": [
       "   Gender  CTC (LPA)\n",
       "0  Female       3.43\n",
       "1    Male       5.63\n",
       "2    Male       4.17\n",
       "3  Female       3.42\n",
       "4    Male       3.14\n",
       "5  Female       5.92\n",
       "6  Female       4.41\n",
       "7  Female       4.71\n",
       "8    Male       4.93\n",
       "9    Male       5.31"
      ]
     },
     "execution_count": 27,
     "metadata": {},
     "output_type": "execute_result"
    }
   ],
   "source": [
    "dataset_slice"
   ]
  },
  {
   "cell_type": "code",
   "execution_count": 29,
   "id": "64f5bc12-d1d6-4137-9f96-37787913b39f",
   "metadata": {},
   "outputs": [
    {
     "data": {
      "text/plain": [
       "<pandas.core.groupby.generic.DataFrameGroupBy object at 0x0000026FCA51FAD0>"
      ]
     },
     "execution_count": 29,
     "metadata": {},
     "output_type": "execute_result"
    }
   ],
   "source": [
    "dataset_slice.groupby(\"Gender\")"
   ]
  },
  {
   "cell_type": "code",
   "execution_count": 33,
   "id": "44f29280-a5ed-45a3-9089-3f9cba51f2aa",
   "metadata": {},
   "outputs": [],
   "source": [
    "gbo = dataset_slice.groupby(\"Gender\")"
   ]
  },
  {
   "cell_type": "code",
   "execution_count": 35,
   "id": "420e352c-851e-41b0-97a1-600691b569dc",
   "metadata": {},
   "outputs": [
    {
     "data": {
      "text/plain": [
       "pandas.core.groupby.generic.DataFrameGroupBy"
      ]
     },
     "execution_count": 35,
     "metadata": {},
     "output_type": "execute_result"
    }
   ],
   "source": [
    "type(gbo)"
   ]
  },
  {
   "cell_type": "code",
   "execution_count": 37,
   "id": "84e23785-3d34-47de-9ec9-70f7a4e7d2e3",
   "metadata": {},
   "outputs": [
    {
     "data": {
      "text/plain": [
       "{'Female': [0, 3, 5, 6, 7], 'Male': [1, 2, 4, 8, 9]}"
      ]
     },
     "execution_count": 37,
     "metadata": {},
     "output_type": "execute_result"
    }
   ],
   "source": [
    "gbo.groups"
   ]
  },
  {
   "cell_type": "code",
   "execution_count": 39,
   "id": "0994c6b9-7a0e-44ab-9c09-323e14ccf4f5",
   "metadata": {},
   "outputs": [],
   "source": [
    "l=list(gbo)"
   ]
  },
  {
   "cell_type": "code",
   "execution_count": 41,
   "id": "375304c2-ad67-4add-9168-f305815bd714",
   "metadata": {},
   "outputs": [
    {
     "data": {
      "text/plain": [
       "[('Female',\n",
       "     Gender  CTC (LPA)\n",
       "  0  Female       3.43\n",
       "  3  Female       3.42\n",
       "  5  Female       5.92\n",
       "  6  Female       4.41\n",
       "  7  Female       4.71),\n",
       " ('Male',\n",
       "    Gender  CTC (LPA)\n",
       "  1   Male       5.63\n",
       "  2   Male       4.17\n",
       "  4   Male       3.14\n",
       "  8   Male       4.93\n",
       "  9   Male       5.31)]"
      ]
     },
     "execution_count": 41,
     "metadata": {},
     "output_type": "execute_result"
    }
   ],
   "source": [
    "l"
   ]
  },
  {
   "cell_type": "code",
   "execution_count": 43,
   "id": "09503e94-1059-4612-978a-e46a63bc0281",
   "metadata": {},
   "outputs": [
    {
     "data": {
      "text/plain": [
       "2"
      ]
     },
     "execution_count": 43,
     "metadata": {},
     "output_type": "execute_result"
    }
   ],
   "source": [
    "len(l)"
   ]
  },
  {
   "cell_type": "code",
   "execution_count": 45,
   "id": "16bdffbf-3c68-46a3-98a0-c18b5910c137",
   "metadata": {},
   "outputs": [
    {
     "data": {
      "text/plain": [
       "('Female',\n",
       "    Gender  CTC (LPA)\n",
       " 0  Female       3.43\n",
       " 3  Female       3.42\n",
       " 5  Female       5.92\n",
       " 6  Female       4.41\n",
       " 7  Female       4.71)"
      ]
     },
     "execution_count": 45,
     "metadata": {},
     "output_type": "execute_result"
    }
   ],
   "source": [
    "l[0]"
   ]
  },
  {
   "cell_type": "code",
   "execution_count": 47,
   "id": "1a3c7445-5872-4bb1-963a-34715408a3f0",
   "metadata": {},
   "outputs": [
    {
     "data": {
      "text/plain": [
       "tuple"
      ]
     },
     "execution_count": 47,
     "metadata": {},
     "output_type": "execute_result"
    }
   ],
   "source": [
    "type(l[0])"
   ]
  },
  {
   "cell_type": "code",
   "execution_count": 49,
   "id": "b9c8cbf9-0d84-48e4-8b16-cf95d4c323ee",
   "metadata": {},
   "outputs": [
    {
     "data": {
      "text/plain": [
       "'Female'"
      ]
     },
     "execution_count": 49,
     "metadata": {},
     "output_type": "execute_result"
    }
   ],
   "source": [
    "l[0][0]"
   ]
  },
  {
   "cell_type": "code",
   "execution_count": 53,
   "id": "771d4487-0402-47c5-9f79-fea3d99eb845",
   "metadata": {},
   "outputs": [
    {
     "data": {
      "text/html": [
       "<div>\n",
       "<style scoped>\n",
       "    .dataframe tbody tr th:only-of-type {\n",
       "        vertical-align: middle;\n",
       "    }\n",
       "\n",
       "    .dataframe tbody tr th {\n",
       "        vertical-align: top;\n",
       "    }\n",
       "\n",
       "    .dataframe thead th {\n",
       "        text-align: right;\n",
       "    }\n",
       "</style>\n",
       "<table border=\"1\" class=\"dataframe\">\n",
       "  <thead>\n",
       "    <tr style=\"text-align: right;\">\n",
       "      <th></th>\n",
       "      <th>Gender</th>\n",
       "      <th>CTC (LPA)</th>\n",
       "    </tr>\n",
       "  </thead>\n",
       "  <tbody>\n",
       "    <tr>\n",
       "      <th>0</th>\n",
       "      <td>Female</td>\n",
       "      <td>3.43</td>\n",
       "    </tr>\n",
       "    <tr>\n",
       "      <th>3</th>\n",
       "      <td>Female</td>\n",
       "      <td>3.42</td>\n",
       "    </tr>\n",
       "    <tr>\n",
       "      <th>5</th>\n",
       "      <td>Female</td>\n",
       "      <td>5.92</td>\n",
       "    </tr>\n",
       "    <tr>\n",
       "      <th>6</th>\n",
       "      <td>Female</td>\n",
       "      <td>4.41</td>\n",
       "    </tr>\n",
       "    <tr>\n",
       "      <th>7</th>\n",
       "      <td>Female</td>\n",
       "      <td>4.71</td>\n",
       "    </tr>\n",
       "  </tbody>\n",
       "</table>\n",
       "</div>"
      ],
      "text/plain": [
       "   Gender  CTC (LPA)\n",
       "0  Female       3.43\n",
       "3  Female       3.42\n",
       "5  Female       5.92\n",
       "6  Female       4.41\n",
       "7  Female       4.71"
      ]
     },
     "execution_count": 53,
     "metadata": {},
     "output_type": "execute_result"
    }
   ],
   "source": [
    "l[0][1]"
   ]
  },
  {
   "cell_type": "code",
   "execution_count": 55,
   "id": "59e0d7cd-fefe-4588-9f61-39b46f6fc94a",
   "metadata": {},
   "outputs": [
    {
     "data": {
      "text/plain": [
       "('Male',\n",
       "   Gender  CTC (LPA)\n",
       " 1   Male       5.63\n",
       " 2   Male       4.17\n",
       " 4   Male       3.14\n",
       " 8   Male       4.93\n",
       " 9   Male       5.31)"
      ]
     },
     "execution_count": 55,
     "metadata": {},
     "output_type": "execute_result"
    }
   ],
   "source": [
    "l[1]"
   ]
  },
  {
   "cell_type": "code",
   "execution_count": 57,
   "id": "bd46d5a4-1209-44f5-af3a-2f6ffabbd9f0",
   "metadata": {},
   "outputs": [
    {
     "data": {
      "text/html": [
       "<div>\n",
       "<style scoped>\n",
       "    .dataframe tbody tr th:only-of-type {\n",
       "        vertical-align: middle;\n",
       "    }\n",
       "\n",
       "    .dataframe tbody tr th {\n",
       "        vertical-align: top;\n",
       "    }\n",
       "\n",
       "    .dataframe thead th {\n",
       "        text-align: right;\n",
       "    }\n",
       "</style>\n",
       "<table border=\"1\" class=\"dataframe\">\n",
       "  <thead>\n",
       "    <tr style=\"text-align: right;\">\n",
       "      <th></th>\n",
       "      <th>Gender</th>\n",
       "      <th>CTC (LPA)</th>\n",
       "    </tr>\n",
       "  </thead>\n",
       "  <tbody>\n",
       "    <tr>\n",
       "      <th>0</th>\n",
       "      <td>Female</td>\n",
       "      <td>3.43</td>\n",
       "    </tr>\n",
       "    <tr>\n",
       "      <th>3</th>\n",
       "      <td>Female</td>\n",
       "      <td>3.42</td>\n",
       "    </tr>\n",
       "    <tr>\n",
       "      <th>5</th>\n",
       "      <td>Female</td>\n",
       "      <td>5.92</td>\n",
       "    </tr>\n",
       "    <tr>\n",
       "      <th>6</th>\n",
       "      <td>Female</td>\n",
       "      <td>4.41</td>\n",
       "    </tr>\n",
       "    <tr>\n",
       "      <th>7</th>\n",
       "      <td>Female</td>\n",
       "      <td>4.71</td>\n",
       "    </tr>\n",
       "  </tbody>\n",
       "</table>\n",
       "</div>"
      ],
      "text/plain": [
       "   Gender  CTC (LPA)\n",
       "0  Female       3.43\n",
       "3  Female       3.42\n",
       "5  Female       5.92\n",
       "6  Female       4.41\n",
       "7  Female       4.71"
      ]
     },
     "execution_count": 57,
     "metadata": {},
     "output_type": "execute_result"
    }
   ],
   "source": [
    "dataset_slice.loc[dataset_slice.Gender==\"Female\"]"
   ]
  },
  {
   "cell_type": "code",
   "execution_count": 63,
   "id": "23182829-78e6-47fc-9c9b-a62ac6f743bf",
   "metadata": {},
   "outputs": [
    {
     "data": {
      "text/html": [
       "<div>\n",
       "<style scoped>\n",
       "    .dataframe tbody tr th:only-of-type {\n",
       "        vertical-align: middle;\n",
       "    }\n",
       "\n",
       "    .dataframe tbody tr th {\n",
       "        vertical-align: top;\n",
       "    }\n",
       "\n",
       "    .dataframe thead th {\n",
       "        text-align: right;\n",
       "    }\n",
       "</style>\n",
       "<table border=\"1\" class=\"dataframe\">\n",
       "  <thead>\n",
       "    <tr style=\"text-align: right;\">\n",
       "      <th></th>\n",
       "      <th>Gender</th>\n",
       "      <th>CTC (LPA)</th>\n",
       "    </tr>\n",
       "  </thead>\n",
       "  <tbody>\n",
       "    <tr>\n",
       "      <th>0</th>\n",
       "      <td>Female</td>\n",
       "      <td>3.43</td>\n",
       "    </tr>\n",
       "    <tr>\n",
       "      <th>3</th>\n",
       "      <td>Female</td>\n",
       "      <td>3.42</td>\n",
       "    </tr>\n",
       "    <tr>\n",
       "      <th>5</th>\n",
       "      <td>Female</td>\n",
       "      <td>5.92</td>\n",
       "    </tr>\n",
       "    <tr>\n",
       "      <th>6</th>\n",
       "      <td>Female</td>\n",
       "      <td>4.41</td>\n",
       "    </tr>\n",
       "    <tr>\n",
       "      <th>7</th>\n",
       "      <td>Female</td>\n",
       "      <td>4.71</td>\n",
       "    </tr>\n",
       "  </tbody>\n",
       "</table>\n",
       "</div>"
      ],
      "text/plain": [
       "   Gender  CTC (LPA)\n",
       "0  Female       3.43\n",
       "3  Female       3.42\n",
       "5  Female       5.92\n",
       "6  Female       4.41\n",
       "7  Female       4.71"
      ]
     },
     "execution_count": 63,
     "metadata": {},
     "output_type": "execute_result"
    }
   ],
   "source": [
    "dataset_slice_f = dataset_slice.loc[dataset_slice.Gender==\"Female\"]\n",
    "dataset_slice_f "
   ]
  },
  {
   "cell_type": "code",
   "execution_count": 65,
   "id": "83fc1749-4185-408b-a1c0-dfbde921cbc7",
   "metadata": {},
   "outputs": [
    {
     "data": {
      "text/html": [
       "<div>\n",
       "<style scoped>\n",
       "    .dataframe tbody tr th:only-of-type {\n",
       "        vertical-align: middle;\n",
       "    }\n",
       "\n",
       "    .dataframe tbody tr th {\n",
       "        vertical-align: top;\n",
       "    }\n",
       "\n",
       "    .dataframe thead th {\n",
       "        text-align: right;\n",
       "    }\n",
       "</style>\n",
       "<table border=\"1\" class=\"dataframe\">\n",
       "  <thead>\n",
       "    <tr style=\"text-align: right;\">\n",
       "      <th></th>\n",
       "      <th>Gender</th>\n",
       "      <th>CTC (LPA)</th>\n",
       "    </tr>\n",
       "  </thead>\n",
       "  <tbody>\n",
       "    <tr>\n",
       "      <th>1</th>\n",
       "      <td>Male</td>\n",
       "      <td>5.63</td>\n",
       "    </tr>\n",
       "    <tr>\n",
       "      <th>2</th>\n",
       "      <td>Male</td>\n",
       "      <td>4.17</td>\n",
       "    </tr>\n",
       "    <tr>\n",
       "      <th>4</th>\n",
       "      <td>Male</td>\n",
       "      <td>3.14</td>\n",
       "    </tr>\n",
       "    <tr>\n",
       "      <th>8</th>\n",
       "      <td>Male</td>\n",
       "      <td>4.93</td>\n",
       "    </tr>\n",
       "    <tr>\n",
       "      <th>9</th>\n",
       "      <td>Male</td>\n",
       "      <td>5.31</td>\n",
       "    </tr>\n",
       "  </tbody>\n",
       "</table>\n",
       "</div>"
      ],
      "text/plain": [
       "  Gender  CTC (LPA)\n",
       "1   Male       5.63\n",
       "2   Male       4.17\n",
       "4   Male       3.14\n",
       "8   Male       4.93\n",
       "9   Male       5.31"
      ]
     },
     "execution_count": 65,
     "metadata": {},
     "output_type": "execute_result"
    }
   ],
   "source": [
    "dataset_slice_m = dataset_slice.loc[dataset_slice.Gender==\"Male\"]\n",
    "dataset_slice_m"
   ]
  },
  {
   "cell_type": "code",
   "execution_count": 67,
   "id": "1559207e-651e-487d-b932-bc9a8f4fc26a",
   "metadata": {},
   "outputs": [
    {
     "data": {
      "text/plain": [
       "True"
      ]
     },
     "execution_count": 67,
     "metadata": {},
     "output_type": "execute_result"
    }
   ],
   "source": [
    "dataset_slice_f.equals(l[0][1])"
   ]
  },
  {
   "cell_type": "code",
   "execution_count": 69,
   "id": "1282f5de-959b-470a-a324-c9422f8cb673",
   "metadata": {},
   "outputs": [
    {
     "name": "stdout",
     "output_type": "stream",
     "text": [
      "   Gender  CTC (LPA)\n",
      "0  Female       3.43\n",
      "3  Female       3.42\n",
      "5  Female       5.92\n",
      "6  Female       4.41\n",
      "7  Female       4.71\n",
      "  Gender  CTC (LPA)\n",
      "1   Male       5.63\n",
      "2   Male       4.17\n",
      "4   Male       3.14\n",
      "8   Male       4.93\n",
      "9   Male       5.31\n"
     ]
    }
   ],
   "source": [
    "for element in gbo:\n",
    "    print(element[1])"
   ]
  },
  {
   "cell_type": "code",
   "execution_count": null,
   "id": "02e62e93-7b60-440d-9a94-4151134e93ac",
   "metadata": {},
   "outputs": [],
   "source": []
  }
 ],
 "metadata": {
  "kernelspec": {
   "display_name": "Python [conda env:base] *",
   "language": "python",
   "name": "conda-base-py"
  },
  "language_info": {
   "codemirror_mode": {
    "name": "ipython",
    "version": 3
   },
   "file_extension": ".py",
   "mimetype": "text/x-python",
   "name": "python",
   "nbconvert_exporter": "python",
   "pygments_lexer": "ipython3",
   "version": "3.12.7"
  }
 },
 "nbformat": 4,
 "nbformat_minor": 5
}
