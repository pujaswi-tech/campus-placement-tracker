{
 "cells": [
  {
   "cell_type": "code",
   "execution_count": 1,
   "id": "2ffad61d-c44d-45dc-828e-79ce7d01789e",
   "metadata": {},
   "outputs": [],
   "source": [
    "import pandas as pd"
   ]
  },
  {
   "cell_type": "code",
   "execution_count": 2,
   "id": "d7534744-b792-4cdf-b33f-334636de6103",
   "metadata": {},
   "outputs": [],
   "source": [
    "dataframe = pd.read_csv(\"Campus_Placement_Tracker_500.csv\")\n"
   ]
  },
  {
   "cell_type": "code",
   "execution_count": 3,
   "id": "f163b5e7-48cf-45c3-b7b8-75bb0f1e853f",
   "metadata": {},
   "outputs": [
    {
     "data": {
      "text/html": [
       "<div>\n",
       "<style scoped>\n",
       "    .dataframe tbody tr th:only-of-type {\n",
       "        vertical-align: middle;\n",
       "    }\n",
       "\n",
       "    .dataframe tbody tr th {\n",
       "        vertical-align: top;\n",
       "    }\n",
       "\n",
       "    .dataframe thead th {\n",
       "        text-align: right;\n",
       "    }\n",
       "</style>\n",
       "<table border=\"1\" class=\"dataframe\">\n",
       "  <thead>\n",
       "    <tr style=\"text-align: right;\">\n",
       "      <th></th>\n",
       "      <th>Roll Number</th>\n",
       "      <th>First Name</th>\n",
       "      <th>Last Name</th>\n",
       "      <th>Gender</th>\n",
       "      <th>Branch</th>\n",
       "      <th>Company</th>\n",
       "      <th>CTC (LPA)</th>\n",
       "      <th>Job Role</th>\n",
       "    </tr>\n",
       "  </thead>\n",
       "  <tbody>\n",
       "    <tr>\n",
       "      <th>0</th>\n",
       "      <td>22BCE6764</td>\n",
       "      <td>Shruti</td>\n",
       "      <td>Gupta</td>\n",
       "      <td>Female</td>\n",
       "      <td>Civil</td>\n",
       "      <td>Capgemini</td>\n",
       "      <td>3.43</td>\n",
       "      <td>Software Engineer</td>\n",
       "    </tr>\n",
       "    <tr>\n",
       "      <th>1</th>\n",
       "      <td>22BCE1856</td>\n",
       "      <td>Dev</td>\n",
       "      <td>Sharma</td>\n",
       "      <td>Male</td>\n",
       "      <td>Mechanical</td>\n",
       "      <td>Cognizant</td>\n",
       "      <td>5.63</td>\n",
       "      <td>Data Analyst</td>\n",
       "    </tr>\n",
       "    <tr>\n",
       "      <th>2</th>\n",
       "      <td>22BCE7769</td>\n",
       "      <td>Dev</td>\n",
       "      <td>Pandey</td>\n",
       "      <td>Male</td>\n",
       "      <td>ECE</td>\n",
       "      <td>TCS</td>\n",
       "      <td>4.17</td>\n",
       "      <td>Software Engineer</td>\n",
       "    </tr>\n",
       "    <tr>\n",
       "      <th>3</th>\n",
       "      <td>22BCE3591</td>\n",
       "      <td>Atharv</td>\n",
       "      <td>Mehta</td>\n",
       "      <td>Female</td>\n",
       "      <td>ECE</td>\n",
       "      <td>Infosys</td>\n",
       "      <td>3.42</td>\n",
       "      <td>DevOps Engineer</td>\n",
       "    </tr>\n",
       "    <tr>\n",
       "      <th>4</th>\n",
       "      <td>22BCE2533</td>\n",
       "      <td>Sai</td>\n",
       "      <td>Agarwal</td>\n",
       "      <td>Male</td>\n",
       "      <td>Civil</td>\n",
       "      <td>TCS</td>\n",
       "      <td>3.14</td>\n",
       "      <td>DevOps Engineer</td>\n",
       "    </tr>\n",
       "    <tr>\n",
       "      <th>...</th>\n",
       "      <td>...</td>\n",
       "      <td>...</td>\n",
       "      <td>...</td>\n",
       "      <td>...</td>\n",
       "      <td>...</td>\n",
       "      <td>...</td>\n",
       "      <td>...</td>\n",
       "      <td>...</td>\n",
       "    </tr>\n",
       "    <tr>\n",
       "      <th>495</th>\n",
       "      <td>22BCE9836</td>\n",
       "      <td>Aarav</td>\n",
       "      <td>Verma</td>\n",
       "      <td>Male</td>\n",
       "      <td>EEE</td>\n",
       "      <td>Google</td>\n",
       "      <td>21.62</td>\n",
       "      <td>Backend Developer</td>\n",
       "    </tr>\n",
       "    <tr>\n",
       "      <th>496</th>\n",
       "      <td>22BCE3684</td>\n",
       "      <td>Dev</td>\n",
       "      <td>Joshi</td>\n",
       "      <td>Female</td>\n",
       "      <td>Civil</td>\n",
       "      <td>Wipro</td>\n",
       "      <td>13.19</td>\n",
       "      <td>Data Analyst</td>\n",
       "    </tr>\n",
       "    <tr>\n",
       "      <th>497</th>\n",
       "      <td>22BCE3357</td>\n",
       "      <td>Ishaan</td>\n",
       "      <td>Reddy</td>\n",
       "      <td>Female</td>\n",
       "      <td>Civil</td>\n",
       "      <td>Google</td>\n",
       "      <td>12.04</td>\n",
       "      <td>DevOps Engineer</td>\n",
       "    </tr>\n",
       "    <tr>\n",
       "      <th>498</th>\n",
       "      <td>22BCE6715</td>\n",
       "      <td>Kritika</td>\n",
       "      <td>Kapoor</td>\n",
       "      <td>Male</td>\n",
       "      <td>IT</td>\n",
       "      <td>TCS</td>\n",
       "      <td>20.80</td>\n",
       "      <td>System Analyst</td>\n",
       "    </tr>\n",
       "    <tr>\n",
       "      <th>499</th>\n",
       "      <td>22BCE7062</td>\n",
       "      <td>Arjun</td>\n",
       "      <td>Kapoor</td>\n",
       "      <td>Male</td>\n",
       "      <td>Mechanical</td>\n",
       "      <td>Google</td>\n",
       "      <td>22.68</td>\n",
       "      <td>System Analyst</td>\n",
       "    </tr>\n",
       "  </tbody>\n",
       "</table>\n",
       "<p>500 rows × 8 columns</p>\n",
       "</div>"
      ],
      "text/plain": [
       "    Roll Number First Name Last Name  Gender      Branch    Company  \\\n",
       "0     22BCE6764     Shruti     Gupta  Female       Civil  Capgemini   \n",
       "1     22BCE1856        Dev    Sharma    Male  Mechanical  Cognizant   \n",
       "2     22BCE7769        Dev    Pandey    Male         ECE        TCS   \n",
       "3     22BCE3591     Atharv     Mehta  Female         ECE    Infosys   \n",
       "4     22BCE2533        Sai   Agarwal    Male       Civil        TCS   \n",
       "..          ...        ...       ...     ...         ...        ...   \n",
       "495   22BCE9836      Aarav     Verma    Male         EEE     Google   \n",
       "496   22BCE3684        Dev     Joshi  Female       Civil      Wipro   \n",
       "497   22BCE3357     Ishaan     Reddy  Female       Civil     Google   \n",
       "498   22BCE6715    Kritika    Kapoor    Male          IT        TCS   \n",
       "499   22BCE7062      Arjun    Kapoor    Male  Mechanical     Google   \n",
       "\n",
       "     CTC (LPA)           Job Role  \n",
       "0         3.43  Software Engineer  \n",
       "1         5.63       Data Analyst  \n",
       "2         4.17  Software Engineer  \n",
       "3         3.42    DevOps Engineer  \n",
       "4         3.14    DevOps Engineer  \n",
       "..         ...                ...  \n",
       "495      21.62  Backend Developer  \n",
       "496      13.19       Data Analyst  \n",
       "497      12.04    DevOps Engineer  \n",
       "498      20.80     System Analyst  \n",
       "499      22.68     System Analyst  \n",
       "\n",
       "[500 rows x 8 columns]"
      ]
     },
     "execution_count": 3,
     "metadata": {},
     "output_type": "execute_result"
    }
   ],
   "source": [
    "dataframe"
   ]
  },
  {
   "cell_type": "code",
   "execution_count": 4,
   "id": "c7587002-5e10-4769-8a21-3e70b9067950",
   "metadata": {},
   "outputs": [
    {
     "data": {
      "text/html": [
       "<div>\n",
       "<style scoped>\n",
       "    .dataframe tbody tr th:only-of-type {\n",
       "        vertical-align: middle;\n",
       "    }\n",
       "\n",
       "    .dataframe tbody tr th {\n",
       "        vertical-align: top;\n",
       "    }\n",
       "\n",
       "    .dataframe thead th {\n",
       "        text-align: right;\n",
       "    }\n",
       "</style>\n",
       "<table border=\"1\" class=\"dataframe\">\n",
       "  <thead>\n",
       "    <tr style=\"text-align: right;\">\n",
       "      <th></th>\n",
       "      <th>Roll Number</th>\n",
       "      <th>First Name</th>\n",
       "      <th>Last Name</th>\n",
       "      <th>Gender</th>\n",
       "      <th>Branch</th>\n",
       "      <th>Company</th>\n",
       "      <th>CTC (LPA)</th>\n",
       "      <th>Job Role</th>\n",
       "    </tr>\n",
       "  </thead>\n",
       "  <tbody>\n",
       "    <tr>\n",
       "      <th>0</th>\n",
       "      <td>22BCE6764</td>\n",
       "      <td>Shruti</td>\n",
       "      <td>Gupta</td>\n",
       "      <td>Female</td>\n",
       "      <td>Civil</td>\n",
       "      <td>Capgemini</td>\n",
       "      <td>3.43</td>\n",
       "      <td>Software Engineer</td>\n",
       "    </tr>\n",
       "    <tr>\n",
       "      <th>1</th>\n",
       "      <td>22BCE1856</td>\n",
       "      <td>Dev</td>\n",
       "      <td>Sharma</td>\n",
       "      <td>Male</td>\n",
       "      <td>Mechanical</td>\n",
       "      <td>Cognizant</td>\n",
       "      <td>5.63</td>\n",
       "      <td>Data Analyst</td>\n",
       "    </tr>\n",
       "    <tr>\n",
       "      <th>2</th>\n",
       "      <td>22BCE7769</td>\n",
       "      <td>Dev</td>\n",
       "      <td>Pandey</td>\n",
       "      <td>Male</td>\n",
       "      <td>ECE</td>\n",
       "      <td>TCS</td>\n",
       "      <td>4.17</td>\n",
       "      <td>Software Engineer</td>\n",
       "    </tr>\n",
       "    <tr>\n",
       "      <th>3</th>\n",
       "      <td>22BCE3591</td>\n",
       "      <td>Atharv</td>\n",
       "      <td>Mehta</td>\n",
       "      <td>Female</td>\n",
       "      <td>ECE</td>\n",
       "      <td>Infosys</td>\n",
       "      <td>3.42</td>\n",
       "      <td>DevOps Engineer</td>\n",
       "    </tr>\n",
       "    <tr>\n",
       "      <th>4</th>\n",
       "      <td>22BCE2533</td>\n",
       "      <td>Sai</td>\n",
       "      <td>Agarwal</td>\n",
       "      <td>Male</td>\n",
       "      <td>Civil</td>\n",
       "      <td>TCS</td>\n",
       "      <td>3.14</td>\n",
       "      <td>DevOps Engineer</td>\n",
       "    </tr>\n",
       "    <tr>\n",
       "      <th>5</th>\n",
       "      <td>22BCE5451</td>\n",
       "      <td>Saanvi</td>\n",
       "      <td>Pandey</td>\n",
       "      <td>Female</td>\n",
       "      <td>CSE</td>\n",
       "      <td>Amazon</td>\n",
       "      <td>5.92</td>\n",
       "      <td>Software Engineer</td>\n",
       "    </tr>\n",
       "    <tr>\n",
       "      <th>6</th>\n",
       "      <td>22BCE2600</td>\n",
       "      <td>Aryan</td>\n",
       "      <td>Reddy</td>\n",
       "      <td>Female</td>\n",
       "      <td>IT</td>\n",
       "      <td>Cognizant</td>\n",
       "      <td>4.41</td>\n",
       "      <td>Backend Developer</td>\n",
       "    </tr>\n",
       "    <tr>\n",
       "      <th>7</th>\n",
       "      <td>22BCE3414</td>\n",
       "      <td>Harsh</td>\n",
       "      <td>Singh</td>\n",
       "      <td>Female</td>\n",
       "      <td>Mechanical</td>\n",
       "      <td>Infosys</td>\n",
       "      <td>4.71</td>\n",
       "      <td>DevOps Engineer</td>\n",
       "    </tr>\n",
       "    <tr>\n",
       "      <th>8</th>\n",
       "      <td>22BCE9616</td>\n",
       "      <td>Ananya</td>\n",
       "      <td>Kapoor</td>\n",
       "      <td>Male</td>\n",
       "      <td>Mechanical</td>\n",
       "      <td>Microsoft</td>\n",
       "      <td>4.93</td>\n",
       "      <td>Software Engineer</td>\n",
       "    </tr>\n",
       "    <tr>\n",
       "      <th>9</th>\n",
       "      <td>22BCE4193</td>\n",
       "      <td>Kiara</td>\n",
       "      <td>Kumar</td>\n",
       "      <td>Male</td>\n",
       "      <td>Civil</td>\n",
       "      <td>Infosys</td>\n",
       "      <td>5.31</td>\n",
       "      <td>Software Engineer</td>\n",
       "    </tr>\n",
       "  </tbody>\n",
       "</table>\n",
       "</div>"
      ],
      "text/plain": [
       "  Roll Number First Name Last Name  Gender      Branch    Company  CTC (LPA)  \\\n",
       "0   22BCE6764     Shruti     Gupta  Female       Civil  Capgemini       3.43   \n",
       "1   22BCE1856        Dev    Sharma    Male  Mechanical  Cognizant       5.63   \n",
       "2   22BCE7769        Dev    Pandey    Male         ECE        TCS       4.17   \n",
       "3   22BCE3591     Atharv     Mehta  Female         ECE    Infosys       3.42   \n",
       "4   22BCE2533        Sai   Agarwal    Male       Civil        TCS       3.14   \n",
       "5   22BCE5451     Saanvi    Pandey  Female         CSE     Amazon       5.92   \n",
       "6   22BCE2600      Aryan     Reddy  Female          IT  Cognizant       4.41   \n",
       "7   22BCE3414      Harsh     Singh  Female  Mechanical    Infosys       4.71   \n",
       "8   22BCE9616     Ananya    Kapoor    Male  Mechanical  Microsoft       4.93   \n",
       "9   22BCE4193      Kiara     Kumar    Male       Civil    Infosys       5.31   \n",
       "\n",
       "            Job Role  \n",
       "0  Software Engineer  \n",
       "1       Data Analyst  \n",
       "2  Software Engineer  \n",
       "3    DevOps Engineer  \n",
       "4    DevOps Engineer  \n",
       "5  Software Engineer  \n",
       "6  Backend Developer  \n",
       "7    DevOps Engineer  \n",
       "8  Software Engineer  \n",
       "9  Software Engineer  "
      ]
     },
     "execution_count": 4,
     "metadata": {},
     "output_type": "execute_result"
    }
   ],
   "source": [
    "dataframe.head(10)"
   ]
  },
  {
   "cell_type": "code",
   "execution_count": 5,
   "id": "9785bc6e-7597-4846-acc0-8a8ce62d93a6",
   "metadata": {},
   "outputs": [
    {
     "data": {
      "text/plain": [
       "60"
      ]
     },
     "execution_count": 5,
     "metadata": {},
     "output_type": "execute_result"
    }
   ],
   "source": [
    "pd.options.display.max_rows"
   ]
  },
  {
   "cell_type": "code",
   "execution_count": 7,
   "id": "27d4be1d-e2e9-4d0e-9d75-3f1c35b6998e",
   "metadata": {},
   "outputs": [
    {
     "data": {
      "text/plain": [
       "10"
      ]
     },
     "execution_count": 7,
     "metadata": {},
     "output_type": "execute_result"
    }
   ],
   "source": [
    "pd.options.display.min_rows"
   ]
  },
  {
   "cell_type": "code",
   "execution_count": 8,
   "id": "8df73ed5-c225-424a-a056-60578f13386c",
   "metadata": {},
   "outputs": [
    {
     "data": {
      "text/html": [
       "<div>\n",
       "<style scoped>\n",
       "    .dataframe tbody tr th:only-of-type {\n",
       "        vertical-align: middle;\n",
       "    }\n",
       "\n",
       "    .dataframe tbody tr th {\n",
       "        vertical-align: top;\n",
       "    }\n",
       "\n",
       "    .dataframe thead th {\n",
       "        text-align: right;\n",
       "    }\n",
       "</style>\n",
       "<table border=\"1\" class=\"dataframe\">\n",
       "  <thead>\n",
       "    <tr style=\"text-align: right;\">\n",
       "      <th></th>\n",
       "      <th>Roll Number</th>\n",
       "      <th>First Name</th>\n",
       "      <th>Last Name</th>\n",
       "      <th>Gender</th>\n",
       "      <th>Branch</th>\n",
       "      <th>Company</th>\n",
       "      <th>CTC (LPA)</th>\n",
       "      <th>Job Role</th>\n",
       "    </tr>\n",
       "  </thead>\n",
       "  <tbody>\n",
       "    <tr>\n",
       "      <th>490</th>\n",
       "      <td>22BCE2689</td>\n",
       "      <td>Laksh</td>\n",
       "      <td>Ghosh</td>\n",
       "      <td>Male</td>\n",
       "      <td>Civil</td>\n",
       "      <td>Infosys</td>\n",
       "      <td>17.99</td>\n",
       "      <td>Web Developer</td>\n",
       "    </tr>\n",
       "    <tr>\n",
       "      <th>491</th>\n",
       "      <td>22BCE8865</td>\n",
       "      <td>Trisha</td>\n",
       "      <td>Das</td>\n",
       "      <td>Male</td>\n",
       "      <td>ECE</td>\n",
       "      <td>Amazon</td>\n",
       "      <td>20.34</td>\n",
       "      <td>System Analyst</td>\n",
       "    </tr>\n",
       "    <tr>\n",
       "      <th>492</th>\n",
       "      <td>22BCE8218</td>\n",
       "      <td>Dev</td>\n",
       "      <td>Nair</td>\n",
       "      <td>Male</td>\n",
       "      <td>IT</td>\n",
       "      <td>Wipro</td>\n",
       "      <td>8.13</td>\n",
       "      <td>Web Developer</td>\n",
       "    </tr>\n",
       "    <tr>\n",
       "      <th>493</th>\n",
       "      <td>22BCE7871</td>\n",
       "      <td>Krishna</td>\n",
       "      <td>Das</td>\n",
       "      <td>Male</td>\n",
       "      <td>Mechanical</td>\n",
       "      <td>Cognizant</td>\n",
       "      <td>21.34</td>\n",
       "      <td>Web Developer</td>\n",
       "    </tr>\n",
       "    <tr>\n",
       "      <th>494</th>\n",
       "      <td>22BCE2099</td>\n",
       "      <td>Riya</td>\n",
       "      <td>Pandey</td>\n",
       "      <td>Female</td>\n",
       "      <td>Civil</td>\n",
       "      <td>TCS</td>\n",
       "      <td>14.67</td>\n",
       "      <td>Software Engineer</td>\n",
       "    </tr>\n",
       "    <tr>\n",
       "      <th>495</th>\n",
       "      <td>22BCE9836</td>\n",
       "      <td>Aarav</td>\n",
       "      <td>Verma</td>\n",
       "      <td>Male</td>\n",
       "      <td>EEE</td>\n",
       "      <td>Google</td>\n",
       "      <td>21.62</td>\n",
       "      <td>Backend Developer</td>\n",
       "    </tr>\n",
       "    <tr>\n",
       "      <th>496</th>\n",
       "      <td>22BCE3684</td>\n",
       "      <td>Dev</td>\n",
       "      <td>Joshi</td>\n",
       "      <td>Female</td>\n",
       "      <td>Civil</td>\n",
       "      <td>Wipro</td>\n",
       "      <td>13.19</td>\n",
       "      <td>Data Analyst</td>\n",
       "    </tr>\n",
       "    <tr>\n",
       "      <th>497</th>\n",
       "      <td>22BCE3357</td>\n",
       "      <td>Ishaan</td>\n",
       "      <td>Reddy</td>\n",
       "      <td>Female</td>\n",
       "      <td>Civil</td>\n",
       "      <td>Google</td>\n",
       "      <td>12.04</td>\n",
       "      <td>DevOps Engineer</td>\n",
       "    </tr>\n",
       "    <tr>\n",
       "      <th>498</th>\n",
       "      <td>22BCE6715</td>\n",
       "      <td>Kritika</td>\n",
       "      <td>Kapoor</td>\n",
       "      <td>Male</td>\n",
       "      <td>IT</td>\n",
       "      <td>TCS</td>\n",
       "      <td>20.80</td>\n",
       "      <td>System Analyst</td>\n",
       "    </tr>\n",
       "    <tr>\n",
       "      <th>499</th>\n",
       "      <td>22BCE7062</td>\n",
       "      <td>Arjun</td>\n",
       "      <td>Kapoor</td>\n",
       "      <td>Male</td>\n",
       "      <td>Mechanical</td>\n",
       "      <td>Google</td>\n",
       "      <td>22.68</td>\n",
       "      <td>System Analyst</td>\n",
       "    </tr>\n",
       "  </tbody>\n",
       "</table>\n",
       "</div>"
      ],
      "text/plain": [
       "    Roll Number First Name Last Name  Gender      Branch    Company  \\\n",
       "490   22BCE2689      Laksh     Ghosh    Male       Civil    Infosys   \n",
       "491   22BCE8865     Trisha       Das    Male         ECE     Amazon   \n",
       "492   22BCE8218        Dev      Nair    Male          IT      Wipro   \n",
       "493   22BCE7871    Krishna       Das    Male  Mechanical  Cognizant   \n",
       "494   22BCE2099       Riya    Pandey  Female       Civil        TCS   \n",
       "495   22BCE9836      Aarav     Verma    Male         EEE     Google   \n",
       "496   22BCE3684        Dev     Joshi  Female       Civil      Wipro   \n",
       "497   22BCE3357     Ishaan     Reddy  Female       Civil     Google   \n",
       "498   22BCE6715    Kritika    Kapoor    Male          IT        TCS   \n",
       "499   22BCE7062      Arjun    Kapoor    Male  Mechanical     Google   \n",
       "\n",
       "     CTC (LPA)           Job Role  \n",
       "490      17.99      Web Developer  \n",
       "491      20.34     System Analyst  \n",
       "492       8.13      Web Developer  \n",
       "493      21.34      Web Developer  \n",
       "494      14.67  Software Engineer  \n",
       "495      21.62  Backend Developer  \n",
       "496      13.19       Data Analyst  \n",
       "497      12.04    DevOps Engineer  \n",
       "498      20.80     System Analyst  \n",
       "499      22.68     System Analyst  "
      ]
     },
     "execution_count": 8,
     "metadata": {},
     "output_type": "execute_result"
    }
   ],
   "source": [
    "dataframe.tail(10)"
   ]
  },
  {
   "cell_type": "code",
   "execution_count": 10,
   "id": "d8fdd20d-db88-4a56-bafb-2da82b11aa5d",
   "metadata": {},
   "outputs": [
    {
     "name": "stdout",
     "output_type": "stream",
     "text": [
      "<class 'pandas.core.frame.DataFrame'>\n",
      "RangeIndex: 500 entries, 0 to 499\n",
      "Data columns (total 8 columns):\n",
      " #   Column       Non-Null Count  Dtype  \n",
      "---  ------       --------------  -----  \n",
      " 0   Roll Number  500 non-null    object \n",
      " 1   First Name   500 non-null    object \n",
      " 2   Last Name    500 non-null    object \n",
      " 3   Gender       500 non-null    object \n",
      " 4   Branch       500 non-null    object \n",
      " 5   Company      500 non-null    object \n",
      " 6   CTC (LPA)    500 non-null    float64\n",
      " 7   Job Role     500 non-null    object \n",
      "dtypes: float64(1), object(7)\n",
      "memory usage: 31.4+ KB\n"
     ]
    }
   ],
   "source": [
    "dataframe.info()"
   ]
  },
  {
   "cell_type": "code",
   "execution_count": 11,
   "id": "c11dc616-2884-4a33-a46c-ff7f4fe9538b",
   "metadata": {},
   "outputs": [
    {
     "data": {
      "text/html": [
       "<div>\n",
       "<style scoped>\n",
       "    .dataframe tbody tr th:only-of-type {\n",
       "        vertical-align: middle;\n",
       "    }\n",
       "\n",
       "    .dataframe tbody tr th {\n",
       "        vertical-align: top;\n",
       "    }\n",
       "\n",
       "    .dataframe thead th {\n",
       "        text-align: right;\n",
       "    }\n",
       "</style>\n",
       "<table border=\"1\" class=\"dataframe\">\n",
       "  <thead>\n",
       "    <tr style=\"text-align: right;\">\n",
       "      <th></th>\n",
       "      <th>CTC (LPA)</th>\n",
       "    </tr>\n",
       "  </thead>\n",
       "  <tbody>\n",
       "    <tr>\n",
       "      <th>count</th>\n",
       "      <td>500.000000</td>\n",
       "    </tr>\n",
       "    <tr>\n",
       "      <th>mean</th>\n",
       "      <td>11.171580</td>\n",
       "    </tr>\n",
       "    <tr>\n",
       "      <th>std</th>\n",
       "      <td>8.446694</td>\n",
       "    </tr>\n",
       "    <tr>\n",
       "      <th>min</th>\n",
       "      <td>3.000000</td>\n",
       "    </tr>\n",
       "    <tr>\n",
       "      <th>25%</th>\n",
       "      <td>4.507500</td>\n",
       "    </tr>\n",
       "    <tr>\n",
       "      <th>50%</th>\n",
       "      <td>5.990000</td>\n",
       "    </tr>\n",
       "    <tr>\n",
       "      <th>75%</th>\n",
       "      <td>18.000000</td>\n",
       "    </tr>\n",
       "    <tr>\n",
       "      <th>max</th>\n",
       "      <td>29.920000</td>\n",
       "    </tr>\n",
       "  </tbody>\n",
       "</table>\n",
       "</div>"
      ],
      "text/plain": [
       "        CTC (LPA)\n",
       "count  500.000000\n",
       "mean    11.171580\n",
       "std      8.446694\n",
       "min      3.000000\n",
       "25%      4.507500\n",
       "50%      5.990000\n",
       "75%     18.000000\n",
       "max     29.920000"
      ]
     },
     "execution_count": 11,
     "metadata": {},
     "output_type": "execute_result"
    }
   ],
   "source": [
    "dataframe.describe()"
   ]
  },
  {
   "cell_type": "code",
   "execution_count": 12,
   "id": "8c29d0d7-f435-4375-9165-d1fec563721f",
   "metadata": {},
   "outputs": [
    {
     "data": {
      "text/html": [
       "<div>\n",
       "<style scoped>\n",
       "    .dataframe tbody tr th:only-of-type {\n",
       "        vertical-align: middle;\n",
       "    }\n",
       "\n",
       "    .dataframe tbody tr th {\n",
       "        vertical-align: top;\n",
       "    }\n",
       "\n",
       "    .dataframe thead th {\n",
       "        text-align: right;\n",
       "    }\n",
       "</style>\n",
       "<table border=\"1\" class=\"dataframe\">\n",
       "  <thead>\n",
       "    <tr style=\"text-align: right;\">\n",
       "      <th></th>\n",
       "      <th>Roll Number</th>\n",
       "      <th>First Name</th>\n",
       "      <th>Last Name</th>\n",
       "      <th>Gender</th>\n",
       "      <th>Branch</th>\n",
       "      <th>Company</th>\n",
       "      <th>Job Role</th>\n",
       "    </tr>\n",
       "  </thead>\n",
       "  <tbody>\n",
       "    <tr>\n",
       "      <th>count</th>\n",
       "      <td>500</td>\n",
       "      <td>500</td>\n",
       "      <td>500</td>\n",
       "      <td>500</td>\n",
       "      <td>500</td>\n",
       "      <td>500</td>\n",
       "      <td>500</td>\n",
       "    </tr>\n",
       "    <tr>\n",
       "      <th>unique</th>\n",
       "      <td>489</td>\n",
       "      <td>40</td>\n",
       "      <td>20</td>\n",
       "      <td>2</td>\n",
       "      <td>6</td>\n",
       "      <td>8</td>\n",
       "      <td>6</td>\n",
       "    </tr>\n",
       "    <tr>\n",
       "      <th>top</th>\n",
       "      <td>22BCE1478</td>\n",
       "      <td>Kabir</td>\n",
       "      <td>Chopra</td>\n",
       "      <td>Female</td>\n",
       "      <td>CSE</td>\n",
       "      <td>Microsoft</td>\n",
       "      <td>Software Engineer</td>\n",
       "    </tr>\n",
       "    <tr>\n",
       "      <th>freq</th>\n",
       "      <td>2</td>\n",
       "      <td>23</td>\n",
       "      <td>38</td>\n",
       "      <td>256</td>\n",
       "      <td>97</td>\n",
       "      <td>77</td>\n",
       "      <td>89</td>\n",
       "    </tr>\n",
       "  </tbody>\n",
       "</table>\n",
       "</div>"
      ],
      "text/plain": [
       "       Roll Number First Name Last Name  Gender Branch    Company  \\\n",
       "count          500        500       500     500    500        500   \n",
       "unique         489         40        20       2      6          8   \n",
       "top      22BCE1478      Kabir    Chopra  Female    CSE  Microsoft   \n",
       "freq             2         23        38     256     97         77   \n",
       "\n",
       "                 Job Role  \n",
       "count                 500  \n",
       "unique                  6  \n",
       "top     Software Engineer  \n",
       "freq                   89  "
      ]
     },
     "execution_count": 12,
     "metadata": {},
     "output_type": "execute_result"
    }
   ],
   "source": [
    "dataframe.describe(include=\"O\")"
   ]
  },
  {
   "cell_type": "code",
   "execution_count": 13,
   "id": "c99a768b-a199-4209-90ff-db854155857d",
   "metadata": {},
   "outputs": [
    {
     "data": {
      "text/plain": [
       "'Branch'"
      ]
     },
     "execution_count": 13,
     "metadata": {},
     "output_type": "execute_result"
    }
   ],
   "source": [
    "min(dataframe)"
   ]
  },
  {
   "cell_type": "markdown",
   "id": "ba839a7b-c74a-4284-8c60-5288651155d1",
   "metadata": {},
   "source": [
    "# Data Frame Attributes"
   ]
  },
  {
   "cell_type": "code",
   "execution_count": 15,
   "id": "58eaa6f5-e463-499a-9148-9afc6c1f9ac0",
   "metadata": {},
   "outputs": [
    {
     "data": {
      "text/plain": [
       "(500, 8)"
      ]
     },
     "execution_count": 15,
     "metadata": {},
     "output_type": "execute_result"
    }
   ],
   "source": [
    "dataframe.shape"
   ]
  },
  {
   "cell_type": "code",
   "execution_count": 16,
   "id": "f4fe6a89-0553-4ad4-afcc-73c87195905d",
   "metadata": {},
   "outputs": [
    {
     "data": {
      "text/plain": [
       "4000"
      ]
     },
     "execution_count": 16,
     "metadata": {},
     "output_type": "execute_result"
    }
   ],
   "source": [
    "dataframe.size"
   ]
  },
  {
   "cell_type": "code",
   "execution_count": 18,
   "id": "c13cea97-a25a-4fcc-8613-5ee4cecf5960",
   "metadata": {},
   "outputs": [
    {
     "data": {
      "text/plain": [
       "RangeIndex(start=0, stop=500, step=1)"
      ]
     },
     "execution_count": 18,
     "metadata": {},
     "output_type": "execute_result"
    }
   ],
   "source": [
    "dataframe.index"
   ]
  },
  {
   "cell_type": "code",
   "execution_count": 20,
   "id": "37acb22a-d80c-48c6-bffa-2b01b4bd6f0d",
   "metadata": {},
   "outputs": [
    {
     "data": {
      "text/plain": [
       "Index(['Roll Number', 'First Name', 'Last Name', 'Gender', 'Branch', 'Company',\n",
       "       'CTC (LPA)', 'Job Role'],\n",
       "      dtype='object')"
      ]
     },
     "execution_count": 20,
     "metadata": {},
     "output_type": "execute_result"
    }
   ],
   "source": [
    "dataframe.columns"
   ]
  },
  {
   "cell_type": "markdown",
   "id": "c9b43033-c5c1-4aa9-ae66-b4a1142d195b",
   "metadata": {},
   "source": [
    "# Data Frame Methods"
   ]
  },
  {
   "cell_type": "code",
   "execution_count": 21,
   "id": "c344f788-fb2b-4b27-87a4-3c742d9adc21",
   "metadata": {},
   "outputs": [
    {
     "data": {
      "text/plain": [
       "<bound method NDFrame.head of     Roll Number First Name Last Name  Gender      Branch    Company  \\\n",
       "0     22BCE6764     Shruti     Gupta  Female       Civil  Capgemini   \n",
       "1     22BCE1856        Dev    Sharma    Male  Mechanical  Cognizant   \n",
       "2     22BCE7769        Dev    Pandey    Male         ECE        TCS   \n",
       "3     22BCE3591     Atharv     Mehta  Female         ECE    Infosys   \n",
       "4     22BCE2533        Sai   Agarwal    Male       Civil        TCS   \n",
       "..          ...        ...       ...     ...         ...        ...   \n",
       "495   22BCE9836      Aarav     Verma    Male         EEE     Google   \n",
       "496   22BCE3684        Dev     Joshi  Female       Civil      Wipro   \n",
       "497   22BCE3357     Ishaan     Reddy  Female       Civil     Google   \n",
       "498   22BCE6715    Kritika    Kapoor    Male          IT        TCS   \n",
       "499   22BCE7062      Arjun    Kapoor    Male  Mechanical     Google   \n",
       "\n",
       "     CTC (LPA)           Job Role  \n",
       "0         3.43  Software Engineer  \n",
       "1         5.63       Data Analyst  \n",
       "2         4.17  Software Engineer  \n",
       "3         3.42    DevOps Engineer  \n",
       "4         3.14    DevOps Engineer  \n",
       "..         ...                ...  \n",
       "495      21.62  Backend Developer  \n",
       "496      13.19       Data Analyst  \n",
       "497      12.04    DevOps Engineer  \n",
       "498      20.80     System Analyst  \n",
       "499      22.68     System Analyst  \n",
       "\n",
       "[500 rows x 8 columns]>"
      ]
     },
     "execution_count": 21,
     "metadata": {},
     "output_type": "execute_result"
    }
   ],
   "source": [
    "dataframe.head"
   ]
  },
  {
   "cell_type": "code",
   "execution_count": 22,
   "id": "5b711c34-45a2-4fa5-bb76-3a17c00417f6",
   "metadata": {},
   "outputs": [
    {
     "data": {
      "text/plain": [
       "<bound method DataFrame.info of     Roll Number First Name Last Name  Gender      Branch    Company  \\\n",
       "0     22BCE6764     Shruti     Gupta  Female       Civil  Capgemini   \n",
       "1     22BCE1856        Dev    Sharma    Male  Mechanical  Cognizant   \n",
       "2     22BCE7769        Dev    Pandey    Male         ECE        TCS   \n",
       "3     22BCE3591     Atharv     Mehta  Female         ECE    Infosys   \n",
       "4     22BCE2533        Sai   Agarwal    Male       Civil        TCS   \n",
       "..          ...        ...       ...     ...         ...        ...   \n",
       "495   22BCE9836      Aarav     Verma    Male         EEE     Google   \n",
       "496   22BCE3684        Dev     Joshi  Female       Civil      Wipro   \n",
       "497   22BCE3357     Ishaan     Reddy  Female       Civil     Google   \n",
       "498   22BCE6715    Kritika    Kapoor    Male          IT        TCS   \n",
       "499   22BCE7062      Arjun    Kapoor    Male  Mechanical     Google   \n",
       "\n",
       "     CTC (LPA)           Job Role  \n",
       "0         3.43  Software Engineer  \n",
       "1         5.63       Data Analyst  \n",
       "2         4.17  Software Engineer  \n",
       "3         3.42    DevOps Engineer  \n",
       "4         3.14    DevOps Engineer  \n",
       "..         ...                ...  \n",
       "495      21.62  Backend Developer  \n",
       "496      13.19       Data Analyst  \n",
       "497      12.04    DevOps Engineer  \n",
       "498      20.80     System Analyst  \n",
       "499      22.68     System Analyst  \n",
       "\n",
       "[500 rows x 8 columns]>"
      ]
     },
     "execution_count": 22,
     "metadata": {},
     "output_type": "execute_result"
    }
   ],
   "source": [
    "dataframe.info"
   ]
  },
  {
   "cell_type": "code",
   "execution_count": 23,
   "id": "0afc1419-4d0a-46ad-b27f-d2ecc5bca5d3",
   "metadata": {},
   "outputs": [
    {
     "data": {
      "text/plain": [
       "CTC (LPA)    3.0\n",
       "dtype: float64"
      ]
     },
     "execution_count": 23,
     "metadata": {},
     "output_type": "execute_result"
    }
   ],
   "source": [
    "dataframe.min(numeric_only=True)"
   ]
  },
  {
   "cell_type": "markdown",
   "id": "ccef614b-c2f4-434a-9b3a-c268f2501bec",
   "metadata": {},
   "source": [
    "# Method Chaining"
   ]
  },
  {
   "cell_type": "code",
   "execution_count": 25,
   "id": "dd6d75ac-99ad-488e-9e13-2dd606c3fc04",
   "metadata": {},
   "outputs": [
    {
     "data": {
      "text/plain": [
       "CTC (LPA)    11.17158\n",
       "dtype: float64"
      ]
     },
     "execution_count": 25,
     "metadata": {},
     "output_type": "execute_result"
    }
   ],
   "source": [
    "dataframe.mean(numeric_only=True)"
   ]
  },
  {
   "cell_type": "code",
   "execution_count": null,
   "id": "ca889b03-2f26-4e5a-9069-b8b945319fe7",
   "metadata": {},
   "outputs": [],
   "source": []
  }
 ],
 "metadata": {
  "kernelspec": {
   "display_name": "Python 3 (ipykernel)",
   "language": "python",
   "name": "python3"
  },
  "language_info": {
   "codemirror_mode": {
    "name": "ipython",
    "version": 3
   },
   "file_extension": ".py",
   "mimetype": "text/x-python",
   "name": "python",
   "nbconvert_exporter": "python",
   "pygments_lexer": "ipython3",
   "version": "3.13.3"
  }
 },
 "nbformat": 4,
 "nbformat_minor": 5
}
